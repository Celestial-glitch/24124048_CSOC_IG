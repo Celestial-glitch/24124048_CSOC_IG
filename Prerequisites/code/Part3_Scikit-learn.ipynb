{
 "cells": [
  {
   "cell_type": "code",
   "execution_count": 3,
   "id": "1829fab5-9390-43e5-a15b-afc5cb6043d8",
   "metadata": {},
   "outputs": [],
   "source": [
    "import pandas as pd\n",
    "from sklearn.linear_model import LinearRegression\n",
    "from sklearn.metrics import mean_absolute_error, mean_squared_error, r2_score\n",
    "from sklearn.model_selection import train_test_split\n",
    "import time"
   ]
  },
  {
   "cell_type": "code",
   "execution_count": 5,
   "id": "831dc5ee-545f-4c14-bbfe-07268c5ede59",
   "metadata": {},
   "outputs": [],
   "source": [
    "df = pd.read_csv(\"data.csv\")"
   ]
  },
  {
   "cell_type": "code",
   "execution_count": 7,
   "id": "3a1dfba2-30c5-45c6-bb45-68d3b7d0f697",
   "metadata": {},
   "outputs": [],
   "source": [
    "X = df.drop(columns=['median_house_value'])\n",
    "y = df['median_house_value']"
   ]
  },
  {
   "cell_type": "code",
   "execution_count": 9,
   "id": "4090b298-2ea0-4052-9074-73f275f1fd8b",
   "metadata": {},
   "outputs": [],
   "source": [
    "X_train, X_test, y_train, y_test = train_test_split(X, y, test_size=0.2, random_state=42)"
   ]
  },
  {
   "cell_type": "code",
   "execution_count": 11,
   "id": "6d84a8c9-711c-4908-a23d-082fcb308f35",
   "metadata": {},
   "outputs": [
    {
     "name": "stdout",
     "output_type": "stream",
     "text": [
      "Training time: 0.2030 seconds\n"
     ]
    }
   ],
   "source": [
    "model = LinearRegression()     #initialize\n",
    "\n",
    "\n",
    "start_time = time.time()              #Train model and record time\n",
    "model.fit(X_train, y_train)\n",
    "end_time = time.time()\n",
    "training_time = end_time - start_time\n",
    "print(f\"Training time: {training_time:.4f} seconds\")"
   ]
  },
  {
   "cell_type": "code",
   "execution_count": 13,
   "id": "96d49b8a-c0e1-40c2-b1bf-980beb421a9a",
   "metadata": {},
   "outputs": [],
   "source": [
    "y_train_pred = model.predict(X_train)\n",
    "y_test_pred = model.predict(X_test)"
   ]
  },
  {
   "cell_type": "code",
   "execution_count": 17,
   "id": "ce42c6a9-583e-4f9e-bdcf-d1e09bc970b4",
   "metadata": {},
   "outputs": [
    {
     "name": "stdout",
     "output_type": "stream",
     "text": [
      "Train MAE: 27835.55\n",
      "Train RMSE: 44849.49\n",
      "Train R² Score: 0.8495\n",
      "Test MAE: 28492.46\n",
      "Test RMSE: 47868.46\n",
      "Test R² Score: 0.8251\n"
     ]
    }
   ],
   "source": [
    "from sklearn.metrics import mean_absolute_error, mean_squared_error, r2_score, root_mean_squared_error\n",
    "\n",
    "mae_train = mean_absolute_error(y_train, y_train_pred)\n",
    "rmse_train = root_mean_squared_error(y_train, y_train_pred)\n",
    "r2_train = r2_score(y_train, y_train_pred)\n",
    "print(f\"Train MAE: {mae_train:.2f}\")\n",
    "print(f\"Train RMSE: {rmse_train:.2f}\")\n",
    "print(f\"Train R² Score: {r2_train:.4f}\")\n",
    "\n",
    "mae_test = mean_absolute_error(y_test, y_test_pred)\n",
    "rmse_test = root_mean_squared_error(y_test, y_test_pred)\n",
    "r2_test = r2_score(y_test, y_test_pred)\n",
    "print(f\"Test MAE: {mae_test:.2f}\")\n",
    "print(f\"Test RMSE: {rmse_test:.2f}\")\n",
    "print(f\"Test R² Score: {r2_test:.4f}\")\n"
   ]
  }
 ],
 "metadata": {
  "kernelspec": {
   "display_name": "Python 3 (ipykernel)",
   "language": "python",
   "name": "python3"
  },
  "language_info": {
   "codemirror_mode": {
    "name": "ipython",
    "version": 3
   },
   "file_extension": ".py",
   "mimetype": "text/x-python",
   "name": "python",
   "nbconvert_exporter": "python",
   "pygments_lexer": "ipython3",
   "version": "3.12.7"
  }
 },
 "nbformat": 4,
 "nbformat_minor": 5
}
