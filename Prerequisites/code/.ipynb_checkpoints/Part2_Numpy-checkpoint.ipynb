{
 "cells": [
  {
   "cell_type": "code",
   "execution_count": 1,
   "id": "9cb4a967-c1aa-47d7-9357-c249aa705d00",
   "metadata": {},
   "outputs": [],
   "source": [
    "import numpy as np\n",
    "import time\n",
    "import matplotlib.pyplot as plt\n",
    "from sklearn.metrics import mean_squared_error, mean_absolute_error, r2_score"
   ]
  },
  {
   "cell_type": "code",
   "execution_count": 5,
   "id": "246a504d-777d-4a64-92ed-ec3e1c3a384a",
   "metadata": {},
   "outputs": [],
   "source": [
    "data = np.loadtxt(\"data.csv\", delimiter=\",\", skiprows=1)\n",
    "target_index = 8  # target is the 9th column\n",
    "X = np.delete(data, target_index, axis=1)  # remove target column from features\n",
    "y = data[:, target_index]  # extract the target column\n",
    "\n",
    "\n",
    "# Add bias (intercept) term\n",
    "X = np.c_[np.ones(X.shape[0]), X]\n"
   ]
  },
  {
   "cell_type": "code",
   "execution_count": 7,
   "id": "c55b07a5-dac2-4a81-9662-332f34846f01",
   "metadata": {},
   "outputs": [
    {
     "name": "stdout",
     "output_type": "stream",
     "text": [
      "X shape: (20640, 14)\n",
      "y shape: (20640,)\n",
      "X[0]: [ 1.         -1.32783522  1.05254828  0.98214266 -0.8048191  -0.97247648\n",
      " -0.9744286  -0.97703285  2.34476576  0.          0.          1.\n",
      "  0.         -0.06614508]\n",
      "y[0]: 452600.0\n"
     ]
    }
   ],
   "source": [
    "print(\"X shape:\", X.shape)\n",
    "print(\"y shape:\", y.shape)\n",
    "print(\"X[0]:\", X[0])\n",
    "print(\"y[0]:\", y[0])\n"
   ]
  },
  {
   "cell_type": "markdown",
   "id": "4065998d-f391-426f-b799-2c87e37451a3",
   "metadata": {},
   "source": [
    "#### train-test split"
   ]
  },
  {
   "cell_type": "code",
   "execution_count": 10,
   "id": "444853d1-81e1-48ae-9c1f-cf397ff429e8",
   "metadata": {},
   "outputs": [],
   "source": [
    "\n",
    "np.random.seed(42)\n",
    "indices = np.random.permutation(X.shape[0])\n",
    "train_size = int(0.8 * X.shape[0])\n",
    "\n",
    "X_train, X_test = X[indices[:train_size]], X[indices[train_size:]]\n",
    "y_train, y_test = y[indices[:train_size]], y[indices[train_size:]]\n"
   ]
  },
  {
   "cell_type": "code",
   "execution_count": 12,
   "id": "923563a6-6541-42a1-9ed2-cfd6a4aed8a1",
   "metadata": {},
   "outputs": [],
   "source": [
    "def compute_cost(X, y, theta):\n",
    "    m = len(y)\n",
    "    predictions = X.dot(theta)\n",
    "    error = predictions - y\n",
    "    return (1 / (2 * m)) * np.dot(error, error)\n"
   ]
  },
  {
   "cell_type": "code",
   "execution_count": 14,
   "id": "935593f3-355c-4203-b566-52a0371a0b6a",
   "metadata": {},
   "outputs": [],
   "source": [
    "def gradient_descent(X, y, theta, alpha, epochs):\n",
    "    m = len(y)\n",
    "    cost_history = []\n",
    "\n",
    "    for epoch in range(epochs):\n",
    "        predictions = X.dot(theta)\n",
    "        error = predictions - y\n",
    "        gradients = (1 / m) * X.T.dot(error)\n",
    "        theta -= alpha * gradients\n",
    "        cost_history.append(compute_cost(X, y, theta))\n",
    "\n",
    "    return theta, cost_history\n"
   ]
  },
  {
   "cell_type": "code",
   "execution_count": 16,
   "id": "7c5fda26-45da-4606-8b6c-e31479e24e9a",
   "metadata": {},
   "outputs": [
    {
     "name": "stdout",
     "output_type": "stream",
     "text": [
      "Training time: 0.31289196014404297 seconds\n",
      "Final weights: [ 1.93905808e+05 -1.56400954e+04 -2.04154815e+04  1.08217478e+04\n",
      "  8.92965735e+03  3.18549367e+03 -1.35931678e+04  6.68351154e+03\n",
      "  8.93663199e+04  1.35206001e+04  1.33511185e+02  2.57349674e+04\n",
      "  2.80691441e+04  6.22471205e+04]\n"
     ]
    }
   ],
   "source": [
    "alpha = 0.01\n",
    "epochs = 500\n",
    "theta = np.zeros(X_train.shape[1])\n",
    "\n",
    "start_time = time.time()\n",
    "theta, cost_history = gradient_descent(X_train, y_train, theta, alpha, epochs)\n",
    "end_time = time.time()\n",
    "\n",
    "print(\"Training time:\", end_time - start_time, \"seconds\")\n",
    "print(\"Final weights:\", theta)\n"
   ]
  },
  {
   "cell_type": "code",
   "execution_count": 18,
   "id": "ad7c6b4c-769c-4f44-bfbb-7f95dc82f2d5",
   "metadata": {},
   "outputs": [
    {
     "data": {
      "image/png": "[encoded data removed]",
      "text/plain": [
       "<Figure size 640x480 with 1 Axes>"
      ]
     },
     "metadata": {},
     "output_type": "display_data"
    }
   ],
   "source": [
    "plt.plot(range(epochs), cost_history)\n",
    "plt.xlabel(\"Iterations\")\n",
    "plt.ylabel(\"Cost\")\n",
    "plt.title(\"Convergence of Cost Function (NumPy)\")\n",
    "plt.grid(True)\n",
    "plt.show()\n"
   ]
  },
  {
   "cell_type": "code",
   "execution_count": 20,
   "id": "b947ccba-07f8-42df-9d0b-53680bb990ce",
   "metadata": {},
   "outputs": [
    {
     "name": "stdout",
     "output_type": "stream",
     "text": [
      "MSE: 2234029248.111568\n",
      "RMSE: 47265.51859560591\n",
      "MAE: 30057.245767037537\n",
      "R² Score: 0.8340230136558807\n"
     ]
    }
   ],
   "source": [
    "y_pred = X_test.dot(theta)\n",
    "\n",
    "mse = mean_squared_error(y_test, y_pred)\n",
    "rmse = np.sqrt(mse)\n",
    "mae = mean_absolute_error(y_test, y_pred)\n",
    "r2 = r2_score(y_test, y_pred)\n",
    "\n",
    "print(\"MSE:\", mse)\n",
    "print(\"RMSE:\", rmse)\n",
    "print(\"MAE:\", mae)\n",
    "print(\"R² Score:\", r2)\n"
   ]
  }
 ],
 "metadata": {
  "kernelspec": {
   "display_name": "Python 3 (ipykernel)",
   "language": "python",
   "name": "python3"
  },
  "language_info": {
   "codemirror_mode": {
    "name": "ipython",
    "version": 3
   },
   "file_extension": ".py",
   "mimetype": "text/x-python",
   "name": "python",
   "nbconvert_exporter": "python",
   "pygments_lexer": "ipython3",
   "version": "3.12.7"
  }
 },
 "nbformat": 4,
 "nbformat_minor": 5
}
