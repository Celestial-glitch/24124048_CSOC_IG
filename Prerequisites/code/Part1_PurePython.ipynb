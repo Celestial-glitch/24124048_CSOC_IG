{
 "cells": [
  {
   "cell_type": "code",
   "execution_count": 111,
   "id": "bbcccdd0-f034-493a-8917-38214b4c92dd",
   "metadata": {},
   "outputs": [],
   "source": [
    "import pandas as pd\n",
    "import random\n",
    "import matplotlib.pyplot as plt\n",
    "from sklearn.model_selection import train_test_split\n",
    "from sklearn.metrics import mean_absolute_error, mean_squared_error, r2_score"
   ]
  },
  {
   "cell_type": "code",
   "execution_count": 115,
   "id": "afbaabc6-30a2-4032-9f23-28071723e56e",
   "metadata": {},
   "outputs": [],
   "source": [
    "df = pd.read_csv(\"data.csv\")   # Load the preprocessed dataset"
   ]
  },
  {
   "cell_type": "markdown",
   "id": "343354bb-27ac-4968-a355-6ce5174d133a",
   "metadata": {},
   "source": [
    "features and targets"
   ]
  },
  {
   "cell_type": "code",
   "execution_count": 117,
   "id": "17830b20-6b6f-4a5e-8044-a31795da361e",
   "metadata": {},
   "outputs": [],
   "source": [
    "X = df.drop(columns=[\"median_house_value\"])\n",
    "y = df[\"median_house_value\"]"
   ]
  },
  {
   "cell_type": "code",
   "execution_count": 119,
   "id": "6771eb2f-0cae-4a06-bdb5-f4361fc8ebff",
   "metadata": {},
   "outputs": [],
   "source": [
    "X_train, X_test, y_train, y_test = train_test_split(X, y, test_size=0.2, random_state=42)"
   ]
  },
  {
   "cell_type": "code",
   "execution_count": 121,
   "id": "693916bd-0083-4592-934c-ad485987990f",
   "metadata": {},
   "outputs": [],
   "source": [
    "X_train = X_train.values.tolist()\n",
    "X_test = X_test.values.tolist()\n",
    "y_train = y_train.tolist()\n",
    "y_test = y_test.tolist()"
   ]
  },
  {
   "cell_type": "code",
   "execution_count": 123,
   "id": "3cac22c7-b4e7-4669-8cdf-578d78d15078",
   "metadata": {},
   "outputs": [],
   "source": [
    "for row in X_train:\n",
    "    row.insert(0, 1)  # add 1 at front for intercept term\n",
    "\n",
    "for row in X_test:\n",
    "    row.insert(0, 1)  \n",
    "      "
   ]
  },
  {
   "cell_type": "markdown",
   "id": "db012f20-e090-4d8f-927d-fd1a290feff4",
   "metadata": {},
   "source": [
    "initialising parameters "
   ]
  },
  {
   "cell_type": "code",
   "execution_count": 125,
   "id": "3225dba8-6444-477e-a9b6-914423783df9",
   "metadata": {},
   "outputs": [],
   "source": [
    "theta = [0] * len(X_train[0])\n",
    "alpha = 0.01  # learning rate\n",
    "epochs = 500  # number of iterations"
   ]
  },
  {
   "cell_type": "markdown",
   "id": "cd332f9d-52a6-422e-8f6a-11d317f0d062",
   "metadata": {},
   "source": [
    "defining helper functions "
   ]
  },
  {
   "cell_type": "markdown",
   "id": "01dde91d-7c9b-485d-b0c5-552e2d2acbaf",
   "metadata": {},
   "source": [
    "#### predcition function"
   ]
  },
  {
   "cell_type": "code",
   "execution_count": 127,
   "id": "c8caabe8-5454-424e-a98e-56346c8846d2",
   "metadata": {},
   "outputs": [],
   "source": [
    "def predict(x_row, theta):\n",
    "    return sum([x * t for x, t in zip(x_row, theta)])"
   ]
  },
  {
   "cell_type": "markdown",
   "id": "2816dc81-a6e3-48e7-bda7-3ff97793b01d",
   "metadata": {},
   "source": [
    "#### Computing cost (MSE)"
   ]
  },
  {
   "cell_type": "code",
   "execution_count": 129,
   "id": "affef667-984c-48a7-92b4-fb227cb3f011",
   "metadata": {},
   "outputs": [],
   "source": [
    "def compute_cost(X, y, theta):\n",
    "    total_error = 0\n",
    "    for i in range(len(X)):\n",
    "        error = predict(X[i], theta) - y[i]\n",
    "        total_error += error ** 2\n",
    "    return total_error / len(X)"
   ]
  },
  {
   "cell_type": "markdown",
   "id": "bfb61b95-7cb9-40d0-a630-c4466e5874d4",
   "metadata": {},
   "source": [
    "#### Gradient descent step"
   ]
  },
  {
   "cell_type": "code",
   "execution_count": 131,
   "id": "6eb94304-8d96-4123-805e-3791f89ce680",
   "metadata": {},
   "outputs": [],
   "source": [
    "def gradient_descent_step(X, y, theta, alpha):\n",
    "    gradients = [0] * len(theta)\n",
    "    m = len(X)\n",
    "    for i in range(m):\n",
    "        error = predict(X[i], theta) - y[i]\n",
    "        for j in range(len(theta)):\n",
    "            gradients[j] += error * X[i][j]\n",
    "    for j in range(len(theta)):\n",
    "        theta[j] -= (alpha * gradients[j]) / m\n",
    "    return theta"
   ]
  },
  {
   "cell_type": "markdown",
   "id": "378f0d12-bbe3-428f-ae74-247039c995f5",
   "metadata": {},
   "source": [
    "#### Running training loop and measuring time"
   ]
  },
  {
   "cell_type": "code",
   "execution_count": 133,
   "id": "033f11de-f23c-44c9-bebe-80a290367eb2",
   "metadata": {},
   "outputs": [
    {
     "name": "stdout",
     "output_type": "stream",
     "text": [
      "Final weights: [194196.36711970338, -15374.727318099198, -20170.32028744112, 10805.874030985211, 8825.378313894817, 3888.352349175252, -13251.558787594204, 6080.40157909314, 89941.05466600359, 13728.497494807843, 125.95755395930706, 25503.60571366989, 26550.01148858846, 64209.92765607941]\n",
      "\n",
      "Convergence Time: 50.55324745178223 seconds\n"
     ]
    }
   ],
   "source": [
    "import time\n",
    "\n",
    "cost_history = []\n",
    "start_time = time.time()  # Start timing\n",
    "\n",
    "for epoch in range(epochs):\n",
    "    theta = gradient_descent_step(X_train, y_train, theta, alpha)  \n",
    "    cost = compute_cost(X_train, y_train, theta)  \n",
    "    cost_history.append(cost)\n",
    "\n",
    "end_time = time.time()  # End timing\n",
    "\n",
    "print(\"Final weights:\", theta)\n",
    "print()\n",
    "print(\"Convergence Time:\", end_time - start_time, \"seconds\")\n"
   ]
  },
  {
   "cell_type": "markdown",
   "id": "5cfc5c29-431c-4d1b-9357-436d8fa655ff",
   "metadata": {},
   "source": [
    "#### Plotting cost vs iteration"
   ]
  },
  {
   "cell_type": "code",
   "execution_count": 135,
   "id": "433d1142-453c-48ba-bc24-272d943e5a32",
   "metadata": {},
   "outputs": [
    {
     "data": {
      "image/png": "[encoded data removed]",
      "text/plain": [
       "<Figure size 640x480 with 1 Axes>"
      ]
     },
     "metadata": {},
     "output_type": "display_data"
    }
   ],
   "source": [
    "plt.plot(range(epochs), cost_history)\n",
    "plt.xlabel(\"Epochs\")\n",
    "plt.ylabel(\"MSE Cost\")\n",
    "plt.title(\"Cost Function Convergence Pure Python\")\n",
    "plt.grid(True)\n",
    "plt.show()\n"
   ]
  },
  {
   "cell_type": "markdown",
   "id": "c93e2e82-c6de-4b22-a3b4-2c8c743e4c35",
   "metadata": {},
   "source": [
    "#### Evaluation"
   ]
  },
  {
   "cell_type": "code",
   "execution_count": 138,
   "id": "47a16211-ba1f-421f-b94b-3b7dbe426445",
   "metadata": {},
   "outputs": [
    {
     "name": "stdout",
     "output_type": "stream",
     "text": [
      "Train MAE: 3314586077.4149776\n",
      "Train RMSE: 57572.44199627959\n",
      "Train R² Score: 0.8359649330725991\n",
      "Test MAE: 3314586077.4149776\n",
      "Test RMSE: 57572.44199627959\n",
      "Test R² Score: 0.8127875434807676\n"
     ]
    }
   ],
   "source": [
    "\n",
    "def predict_multiple(X, theta):\n",
    "    return [predict(x, theta) for x in X]\n",
    "\n",
    "# Predict on training and test sets\n",
    "y_train_pred = predict_multiple(X_train, theta)\n",
    "y_test_pred = predict_multiple(X_test, theta)\n",
    "\n",
    "\n",
    "def calculate_metrics(y_true, y_pred):\n",
    "    n = len(y_true)\n",
    "    mae = sum(abs(yt - yp) for yt, yp in zip(y_true, y_pred)) / n\n",
    "    rmse = mse ** 0.5\n",
    "    y_mean = sum(y_true) / n\n",
    "    ss_tot = sum((yt - y_mean) ** 2 for yt in y_true)\n",
    "    ss_res = sum((yt - yp) ** 2 for yt, yp in zip(y_true, y_pred))\n",
    "    r2 = 1 - (ss_res / ss_tot)\n",
    "    return mse, rmse, r2\n",
    "\n",
    "\n",
    "mae_train, rmse_train, r2_train = calculate_metrics(y_train, y_train_pred)\n",
    "print(f\"Train MAE: {mae_train}\")\n",
    "print(f\"Train RMSE: {rmse_train}\")\n",
    "print(f\"Train R² Score: {r2_train}\")\n",
    "\n",
    "\n",
    "mae_test, rmse_test, r2_test = calculate_metrics(y_test, y_test_pred)\n",
    "print(f\"Test MAE: {mae_test}\")\n",
    "print(f\"Test RMSE: {rmse_test}\")\n",
    "print(f\"Test R² Score: {r2_test}\")\n"
   ]
  },
  {
   "cell_type": "code",
   "execution_count": null,
   "id": "ddfae143-067e-464a-b14f-19bf483a6032",
   "metadata": {},
   "outputs": [],
   "source": []
  },
  {
   "cell_type": "code",
   "execution_count": null,
   "id": "1f9fb880-1a4d-4222-90e0-57ed31217dce",
   "metadata": {},
   "outputs": [],
   "source": []
  }
 ],
 "metadata": {
  "kernelspec": {
   "display_name": "Python 3 (ipykernel)",
   "language": "python",
   "name": "python3"
  },
  "language_info": {
   "codemirror_mode": {
    "name": "ipython",
    "version": 3
   },
   "file_extension": ".py",
   "mimetype": "text/x-python",
   "name": "python",
   "nbconvert_exporter": "python",
   "pygments_lexer": "ipython3",
   "version": "3.12.7"
  }
 },
 "nbformat": 4,
 "nbformat_minor": 5
}
