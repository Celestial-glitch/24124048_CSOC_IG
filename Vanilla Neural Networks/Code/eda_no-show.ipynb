{
 "cells": [
  {
   "cell_type": "code",
   "execution_count": 1296,
   "id": "eab7ab69-1b05-4035-9921-e6bd8aa96c52",
   "metadata": {},
   "outputs": [],
   "source": [
    "import pandas as pd\n",
    "import numpy as np\n",
    "import matplotlib.pyplot as plt\n",
    "import seaborn as sns\n"
   ]
  },
  {
   "cell_type": "code",
   "execution_count": 1297,
   "id": "77f2b70d-2d20-433a-a1e9-14c393a3a54f",
   "metadata": {},
   "outputs": [],
   "source": [
    "df = pd.read_csv('KaggleV2-May-2016.csv')"
   ]
  },
  {
   "cell_type": "code",
   "execution_count": 1298,
   "id": "7a651d6f-9ab5-4c0c-ba9c-f58a14acf277",
   "metadata": {},
   "outputs": [
    {
     "data": {
      "text/html": [
       "<div>\n",
       "<style scoped>\n",
       "    .dataframe tbody tr th:only-of-type {\n",
       "        vertical-align: middle;\n",
       "    }\n",
       "\n",
       "    .dataframe tbody tr th {\n",
       "        vertical-align: top;\n",
       "    }\n",
       "\n",
       "    .dataframe thead th {\n",
       "        text-align: right;\n",
       "    }\n",
       "</style>\n",
       "<table border=\"1\" class=\"dataframe\">\n",
       "  <thead>\n",
       "    <tr style=\"text-align: right;\">\n",
       "      <th></th>\n",
       "      <th>PatientId</th>\n",
       "      <th>AppointmentID</th>\n",
       "      <th>Gender</th>\n",
       "      <th>ScheduledDay</th>\n",
       "      <th>AppointmentDay</th>\n",
       "      <th>Age</th>\n",
       "      <th>Neighbourhood</th>\n",
       "      <th>Scholarship</th>\n",
       "      <th>Hipertension</th>\n",
       "      <th>Diabetes</th>\n",
       "      <th>Alcoholism</th>\n",
       "      <th>Handcap</th>\n",
       "      <th>SMS_received</th>\n",
       "      <th>No-show</th>\n",
       "    </tr>\n",
       "  </thead>\n",
       "  <tbody>\n",
       "    <tr>\n",
       "      <th>0</th>\n",
       "      <td>2.987250e+13</td>\n",
       "      <td>5642903</td>\n",
       "      <td>F</td>\n",
       "      <td>2016-04-29T18:38:08Z</td>\n",
       "      <td>2016-04-29T00:00:00Z</td>\n",
       "      <td>62</td>\n",
       "      <td>JARDIM DA PENHA</td>\n",
       "      <td>0</td>\n",
       "      <td>1</td>\n",
       "      <td>0</td>\n",
       "      <td>0</td>\n",
       "      <td>0</td>\n",
       "      <td>0</td>\n",
       "      <td>No</td>\n",
       "    </tr>\n",
       "    <tr>\n",
       "      <th>1</th>\n",
       "      <td>5.589978e+14</td>\n",
       "      <td>5642503</td>\n",
       "      <td>M</td>\n",
       "      <td>2016-04-29T16:08:27Z</td>\n",
       "      <td>2016-04-29T00:00:00Z</td>\n",
       "      <td>56</td>\n",
       "      <td>JARDIM DA PENHA</td>\n",
       "      <td>0</td>\n",
       "      <td>0</td>\n",
       "      <td>0</td>\n",
       "      <td>0</td>\n",
       "      <td>0</td>\n",
       "      <td>0</td>\n",
       "      <td>No</td>\n",
       "    </tr>\n",
       "    <tr>\n",
       "      <th>2</th>\n",
       "      <td>4.262962e+12</td>\n",
       "      <td>5642549</td>\n",
       "      <td>F</td>\n",
       "      <td>2016-04-29T16:19:04Z</td>\n",
       "      <td>2016-04-29T00:00:00Z</td>\n",
       "      <td>62</td>\n",
       "      <td>MATA DA PRAIA</td>\n",
       "      <td>0</td>\n",
       "      <td>0</td>\n",
       "      <td>0</td>\n",
       "      <td>0</td>\n",
       "      <td>0</td>\n",
       "      <td>0</td>\n",
       "      <td>No</td>\n",
       "    </tr>\n",
       "    <tr>\n",
       "      <th>3</th>\n",
       "      <td>8.679512e+11</td>\n",
       "      <td>5642828</td>\n",
       "      <td>F</td>\n",
       "      <td>2016-04-29T17:29:31Z</td>\n",
       "      <td>2016-04-29T00:00:00Z</td>\n",
       "      <td>8</td>\n",
       "      <td>PONTAL DE CAMBURI</td>\n",
       "      <td>0</td>\n",
       "      <td>0</td>\n",
       "      <td>0</td>\n",
       "      <td>0</td>\n",
       "      <td>0</td>\n",
       "      <td>0</td>\n",
       "      <td>No</td>\n",
       "    </tr>\n",
       "    <tr>\n",
       "      <th>4</th>\n",
       "      <td>8.841186e+12</td>\n",
       "      <td>5642494</td>\n",
       "      <td>F</td>\n",
       "      <td>2016-04-29T16:07:23Z</td>\n",
       "      <td>2016-04-29T00:00:00Z</td>\n",
       "      <td>56</td>\n",
       "      <td>JARDIM DA PENHA</td>\n",
       "      <td>0</td>\n",
       "      <td>1</td>\n",
       "      <td>1</td>\n",
       "      <td>0</td>\n",
       "      <td>0</td>\n",
       "      <td>0</td>\n",
       "      <td>No</td>\n",
       "    </tr>\n",
       "    <tr>\n",
       "      <th>...</th>\n",
       "      <td>...</td>\n",
       "      <td>...</td>\n",
       "      <td>...</td>\n",
       "      <td>...</td>\n",
       "      <td>...</td>\n",
       "      <td>...</td>\n",
       "      <td>...</td>\n",
       "      <td>...</td>\n",
       "      <td>...</td>\n",
       "      <td>...</td>\n",
       "      <td>...</td>\n",
       "      <td>...</td>\n",
       "      <td>...</td>\n",
       "      <td>...</td>\n",
       "    </tr>\n",
       "    <tr>\n",
       "      <th>110522</th>\n",
       "      <td>2.572134e+12</td>\n",
       "      <td>5651768</td>\n",
       "      <td>F</td>\n",
       "      <td>2016-05-03T09:15:35Z</td>\n",
       "      <td>2016-06-07T00:00:00Z</td>\n",
       "      <td>56</td>\n",
       "      <td>MARIA ORTIZ</td>\n",
       "      <td>0</td>\n",
       "      <td>0</td>\n",
       "      <td>0</td>\n",
       "      <td>0</td>\n",
       "      <td>0</td>\n",
       "      <td>1</td>\n",
       "      <td>No</td>\n",
       "    </tr>\n",
       "    <tr>\n",
       "      <th>110523</th>\n",
       "      <td>3.596266e+12</td>\n",
       "      <td>5650093</td>\n",
       "      <td>F</td>\n",
       "      <td>2016-05-03T07:27:33Z</td>\n",
       "      <td>2016-06-07T00:00:00Z</td>\n",
       "      <td>51</td>\n",
       "      <td>MARIA ORTIZ</td>\n",
       "      <td>0</td>\n",
       "      <td>0</td>\n",
       "      <td>0</td>\n",
       "      <td>0</td>\n",
       "      <td>0</td>\n",
       "      <td>1</td>\n",
       "      <td>No</td>\n",
       "    </tr>\n",
       "    <tr>\n",
       "      <th>110524</th>\n",
       "      <td>1.557663e+13</td>\n",
       "      <td>5630692</td>\n",
       "      <td>F</td>\n",
       "      <td>2016-04-27T16:03:52Z</td>\n",
       "      <td>2016-06-07T00:00:00Z</td>\n",
       "      <td>21</td>\n",
       "      <td>MARIA ORTIZ</td>\n",
       "      <td>0</td>\n",
       "      <td>0</td>\n",
       "      <td>0</td>\n",
       "      <td>0</td>\n",
       "      <td>0</td>\n",
       "      <td>1</td>\n",
       "      <td>No</td>\n",
       "    </tr>\n",
       "    <tr>\n",
       "      <th>110525</th>\n",
       "      <td>9.213493e+13</td>\n",
       "      <td>5630323</td>\n",
       "      <td>F</td>\n",
       "      <td>2016-04-27T15:09:23Z</td>\n",
       "      <td>2016-06-07T00:00:00Z</td>\n",
       "      <td>38</td>\n",
       "      <td>MARIA ORTIZ</td>\n",
       "      <td>0</td>\n",
       "      <td>0</td>\n",
       "      <td>0</td>\n",
       "      <td>0</td>\n",
       "      <td>0</td>\n",
       "      <td>1</td>\n",
       "      <td>No</td>\n",
       "    </tr>\n",
       "    <tr>\n",
       "      <th>110526</th>\n",
       "      <td>3.775115e+14</td>\n",
       "      <td>5629448</td>\n",
       "      <td>F</td>\n",
       "      <td>2016-04-27T13:30:56Z</td>\n",
       "      <td>2016-06-07T00:00:00Z</td>\n",
       "      <td>54</td>\n",
       "      <td>MARIA ORTIZ</td>\n",
       "      <td>0</td>\n",
       "      <td>0</td>\n",
       "      <td>0</td>\n",
       "      <td>0</td>\n",
       "      <td>0</td>\n",
       "      <td>1</td>\n",
       "      <td>No</td>\n",
       "    </tr>\n",
       "  </tbody>\n",
       "</table>\n",
       "<p>110527 rows × 14 columns</p>\n",
       "</div>"
      ],
      "text/plain": [
       "           PatientId  AppointmentID Gender          ScheduledDay  \\\n",
       "0       2.987250e+13        5642903      F  2016-04-29T18:38:08Z   \n",
       "1       5.589978e+14        5642503      M  2016-04-29T16:08:27Z   \n",
       "2       4.262962e+12        5642549      F  2016-04-29T16:19:04Z   \n",
       "3       8.679512e+11        5642828      F  2016-04-29T17:29:31Z   \n",
       "4       8.841186e+12        5642494      F  2016-04-29T16:07:23Z   \n",
       "...              ...            ...    ...                   ...   \n",
       "110522  2.572134e+12        5651768      F  2016-05-03T09:15:35Z   \n",
       "110523  3.596266e+12        5650093      F  2016-05-03T07:27:33Z   \n",
       "110524  1.557663e+13        5630692      F  2016-04-27T16:03:52Z   \n",
       "110525  9.213493e+13        5630323      F  2016-04-27T15:09:23Z   \n",
       "110526  3.775115e+14        5629448      F  2016-04-27T13:30:56Z   \n",
       "\n",
       "              AppointmentDay  Age      Neighbourhood  Scholarship  \\\n",
       "0       2016-04-29T00:00:00Z   62    JARDIM DA PENHA            0   \n",
       "1       2016-04-29T00:00:00Z   56    JARDIM DA PENHA            0   \n",
       "2       2016-04-29T00:00:00Z   62      MATA DA PRAIA            0   \n",
       "3       2016-04-29T00:00:00Z    8  PONTAL DE CAMBURI            0   \n",
       "4       2016-04-29T00:00:00Z   56    JARDIM DA PENHA            0   \n",
       "...                      ...  ...                ...          ...   \n",
       "110522  2016-06-07T00:00:00Z   56        MARIA ORTIZ            0   \n",
       "110523  2016-06-07T00:00:00Z   51        MARIA ORTIZ            0   \n",
       "110524  2016-06-07T00:00:00Z   21        MARIA ORTIZ            0   \n",
       "110525  2016-06-07T00:00:00Z   38        MARIA ORTIZ            0   \n",
       "110526  2016-06-07T00:00:00Z   54        MARIA ORTIZ            0   \n",
       "\n",
       "        Hipertension  Diabetes  Alcoholism  Handcap  SMS_received No-show  \n",
       "0                  1         0           0        0             0      No  \n",
       "1                  0         0           0        0             0      No  \n",
       "2                  0         0           0        0             0      No  \n",
       "3                  0         0           0        0             0      No  \n",
       "4                  1         1           0        0             0      No  \n",
       "...              ...       ...         ...      ...           ...     ...  \n",
       "110522             0         0           0        0             1      No  \n",
       "110523             0         0           0        0             1      No  \n",
       "110524             0         0           0        0             1      No  \n",
       "110525             0         0           0        0             1      No  \n",
       "110526             0         0           0        0             1      No  \n",
       "\n",
       "[110527 rows x 14 columns]"
      ]
     },
     "execution_count": 1298,
     "metadata": {},
     "output_type": "execute_result"
    }
   ],
   "source": [
    "df\n"
   ]
  },
  {
   "cell_type": "code",
   "execution_count": 1299,
   "id": "f3ae2895-479d-436d-860a-e12a2e37be1e",
   "metadata": {},
   "outputs": [
    {
     "name": "stdout",
     "output_type": "stream",
     "text": [
      "<class 'pandas.core.frame.DataFrame'>\n",
      "RangeIndex: 110527 entries, 0 to 110526\n",
      "Data columns (total 14 columns):\n",
      " #   Column          Non-Null Count   Dtype  \n",
      "---  ------          --------------   -----  \n",
      " 0   PatientId       110527 non-null  float64\n",
      " 1   AppointmentID   110527 non-null  int64  \n",
      " 2   Gender          110527 non-null  object \n",
      " 3   ScheduledDay    110527 non-null  object \n",
      " 4   AppointmentDay  110527 non-null  object \n",
      " 5   Age             110527 non-null  int64  \n",
      " 6   Neighbourhood   110527 non-null  object \n",
      " 7   Scholarship     110527 non-null  int64  \n",
      " 8   Hipertension    110527 non-null  int64  \n",
      " 9   Diabetes        110527 non-null  int64  \n",
      " 10  Alcoholism      110527 non-null  int64  \n",
      " 11  Handcap         110527 non-null  int64  \n",
      " 12  SMS_received    110527 non-null  int64  \n",
      " 13  No-show         110527 non-null  object \n",
      "dtypes: float64(1), int64(8), object(5)\n",
      "memory usage: 11.8+ MB\n"
     ]
    }
   ],
   "source": [
    "df.info()"
   ]
  },
  {
   "cell_type": "code",
   "execution_count": 1300,
   "id": "2b72d2b9-5e43-43a7-b8bb-a1769b8aec90",
   "metadata": {},
   "outputs": [
    {
     "data": {
      "text/html": [
       "<div>\n",
       "<style scoped>\n",
       "    .dataframe tbody tr th:only-of-type {\n",
       "        vertical-align: middle;\n",
       "    }\n",
       "\n",
       "    .dataframe tbody tr th {\n",
       "        vertical-align: top;\n",
       "    }\n",
       "\n",
       "    .dataframe thead th {\n",
       "        text-align: right;\n",
       "    }\n",
       "</style>\n",
       "<table border=\"1\" class=\"dataframe\">\n",
       "  <thead>\n",
       "    <tr style=\"text-align: right;\">\n",
       "      <th></th>\n",
       "      <th>PatientId</th>\n",
       "      <th>AppointmentID</th>\n",
       "      <th>Age</th>\n",
       "      <th>Scholarship</th>\n",
       "      <th>Hipertension</th>\n",
       "      <th>Diabetes</th>\n",
       "      <th>Alcoholism</th>\n",
       "      <th>Handcap</th>\n",
       "      <th>SMS_received</th>\n",
       "    </tr>\n",
       "  </thead>\n",
       "  <tbody>\n",
       "    <tr>\n",
       "      <th>count</th>\n",
       "      <td>1.105270e+05</td>\n",
       "      <td>1.105270e+05</td>\n",
       "      <td>110527.000000</td>\n",
       "      <td>110527.000000</td>\n",
       "      <td>110527.000000</td>\n",
       "      <td>110527.000000</td>\n",
       "      <td>110527.000000</td>\n",
       "      <td>110527.000000</td>\n",
       "      <td>110527.000000</td>\n",
       "    </tr>\n",
       "    <tr>\n",
       "      <th>mean</th>\n",
       "      <td>1.474963e+14</td>\n",
       "      <td>5.675305e+06</td>\n",
       "      <td>37.088874</td>\n",
       "      <td>0.098266</td>\n",
       "      <td>0.197246</td>\n",
       "      <td>0.071865</td>\n",
       "      <td>0.030400</td>\n",
       "      <td>0.022248</td>\n",
       "      <td>0.321026</td>\n",
       "    </tr>\n",
       "    <tr>\n",
       "      <th>std</th>\n",
       "      <td>2.560949e+14</td>\n",
       "      <td>7.129575e+04</td>\n",
       "      <td>23.110205</td>\n",
       "      <td>0.297675</td>\n",
       "      <td>0.397921</td>\n",
       "      <td>0.258265</td>\n",
       "      <td>0.171686</td>\n",
       "      <td>0.161543</td>\n",
       "      <td>0.466873</td>\n",
       "    </tr>\n",
       "    <tr>\n",
       "      <th>min</th>\n",
       "      <td>3.921784e+04</td>\n",
       "      <td>5.030230e+06</td>\n",
       "      <td>-1.000000</td>\n",
       "      <td>0.000000</td>\n",
       "      <td>0.000000</td>\n",
       "      <td>0.000000</td>\n",
       "      <td>0.000000</td>\n",
       "      <td>0.000000</td>\n",
       "      <td>0.000000</td>\n",
       "    </tr>\n",
       "    <tr>\n",
       "      <th>25%</th>\n",
       "      <td>4.172614e+12</td>\n",
       "      <td>5.640286e+06</td>\n",
       "      <td>18.000000</td>\n",
       "      <td>0.000000</td>\n",
       "      <td>0.000000</td>\n",
       "      <td>0.000000</td>\n",
       "      <td>0.000000</td>\n",
       "      <td>0.000000</td>\n",
       "      <td>0.000000</td>\n",
       "    </tr>\n",
       "    <tr>\n",
       "      <th>50%</th>\n",
       "      <td>3.173184e+13</td>\n",
       "      <td>5.680573e+06</td>\n",
       "      <td>37.000000</td>\n",
       "      <td>0.000000</td>\n",
       "      <td>0.000000</td>\n",
       "      <td>0.000000</td>\n",
       "      <td>0.000000</td>\n",
       "      <td>0.000000</td>\n",
       "      <td>0.000000</td>\n",
       "    </tr>\n",
       "    <tr>\n",
       "      <th>75%</th>\n",
       "      <td>9.439172e+13</td>\n",
       "      <td>5.725524e+06</td>\n",
       "      <td>55.000000</td>\n",
       "      <td>0.000000</td>\n",
       "      <td>0.000000</td>\n",
       "      <td>0.000000</td>\n",
       "      <td>0.000000</td>\n",
       "      <td>0.000000</td>\n",
       "      <td>1.000000</td>\n",
       "    </tr>\n",
       "    <tr>\n",
       "      <th>max</th>\n",
       "      <td>9.999816e+14</td>\n",
       "      <td>5.790484e+06</td>\n",
       "      <td>115.000000</td>\n",
       "      <td>1.000000</td>\n",
       "      <td>1.000000</td>\n",
       "      <td>1.000000</td>\n",
       "      <td>1.000000</td>\n",
       "      <td>4.000000</td>\n",
       "      <td>1.000000</td>\n",
       "    </tr>\n",
       "  </tbody>\n",
       "</table>\n",
       "</div>"
      ],
      "text/plain": [
       "          PatientId  AppointmentID            Age    Scholarship  \\\n",
       "count  1.105270e+05   1.105270e+05  110527.000000  110527.000000   \n",
       "mean   1.474963e+14   5.675305e+06      37.088874       0.098266   \n",
       "std    2.560949e+14   7.129575e+04      23.110205       0.297675   \n",
       "min    3.921784e+04   5.030230e+06      -1.000000       0.000000   \n",
       "25%    4.172614e+12   5.640286e+06      18.000000       0.000000   \n",
       "50%    3.173184e+13   5.680573e+06      37.000000       0.000000   \n",
       "75%    9.439172e+13   5.725524e+06      55.000000       0.000000   \n",
       "max    9.999816e+14   5.790484e+06     115.000000       1.000000   \n",
       "\n",
       "        Hipertension       Diabetes     Alcoholism        Handcap  \\\n",
       "count  110527.000000  110527.000000  110527.000000  110527.000000   \n",
       "mean        0.197246       0.071865       0.030400       0.022248   \n",
       "std         0.397921       0.258265       0.171686       0.161543   \n",
       "min         0.000000       0.000000       0.000000       0.000000   \n",
       "25%         0.000000       0.000000       0.000000       0.000000   \n",
       "50%         0.000000       0.000000       0.000000       0.000000   \n",
       "75%         0.000000       0.000000       0.000000       0.000000   \n",
       "max         1.000000       1.000000       1.000000       4.000000   \n",
       "\n",
       "        SMS_received  \n",
       "count  110527.000000  \n",
       "mean        0.321026  \n",
       "std         0.466873  \n",
       "min         0.000000  \n",
       "25%         0.000000  \n",
       "50%         0.000000  \n",
       "75%         1.000000  \n",
       "max         1.000000  "
      ]
     },
     "execution_count": 1300,
     "metadata": {},
     "output_type": "execute_result"
    }
   ],
   "source": [
    "df.describe()"
   ]
  },
  {
   "cell_type": "code",
   "execution_count": 1301,
   "id": "6fcffe45-0c85-43d4-b09d-9a2a766090a9",
   "metadata": {},
   "outputs": [
    {
     "data": {
      "text/plain": [
       "PatientId         0\n",
       "AppointmentID     0\n",
       "Gender            0\n",
       "ScheduledDay      0\n",
       "AppointmentDay    0\n",
       "Age               0\n",
       "Neighbourhood     0\n",
       "Scholarship       0\n",
       "Hipertension      0\n",
       "Diabetes          0\n",
       "Alcoholism        0\n",
       "Handcap           0\n",
       "SMS_received      0\n",
       "No-show           0\n",
       "dtype: int64"
      ]
     },
     "execution_count": 1301,
     "metadata": {},
     "output_type": "execute_result"
    }
   ],
   "source": [
    "df.isnull().sum()"
   ]
  },
  {
   "cell_type": "code",
   "execution_count": 1302,
   "id": "185e6f90-d469-4061-a584-45adc9078ea5",
   "metadata": {},
   "outputs": [
    {
     "data": {
      "text/html": [
       "<div>\n",
       "<style scoped>\n",
       "    .dataframe tbody tr th:only-of-type {\n",
       "        vertical-align: middle;\n",
       "    }\n",
       "\n",
       "    .dataframe tbody tr th {\n",
       "        vertical-align: top;\n",
       "    }\n",
       "\n",
       "    .dataframe thead th {\n",
       "        text-align: right;\n",
       "    }\n",
       "</style>\n",
       "<table border=\"1\" class=\"dataframe\">\n",
       "  <thead>\n",
       "    <tr style=\"text-align: right;\">\n",
       "      <th></th>\n",
       "      <th>PatientId</th>\n",
       "      <th>AppointmentID</th>\n",
       "      <th>Gender</th>\n",
       "      <th>ScheduledDay</th>\n",
       "      <th>AppointmentDay</th>\n",
       "      <th>Age</th>\n",
       "      <th>Neighbourhood</th>\n",
       "      <th>Scholarship</th>\n",
       "      <th>Hipertension</th>\n",
       "      <th>Diabetes</th>\n",
       "      <th>Alcoholism</th>\n",
       "      <th>Handcap</th>\n",
       "      <th>SMS_received</th>\n",
       "      <th>No-show</th>\n",
       "    </tr>\n",
       "  </thead>\n",
       "  <tbody>\n",
       "    <tr>\n",
       "      <th>0</th>\n",
       "      <td>2.987250e+13</td>\n",
       "      <td>5642903</td>\n",
       "      <td>F</td>\n",
       "      <td>2016-04-29T18:38:08Z</td>\n",
       "      <td>2016-04-29T00:00:00Z</td>\n",
       "      <td>62</td>\n",
       "      <td>JARDIM DA PENHA</td>\n",
       "      <td>0</td>\n",
       "      <td>1</td>\n",
       "      <td>0</td>\n",
       "      <td>0</td>\n",
       "      <td>0</td>\n",
       "      <td>0</td>\n",
       "      <td>No</td>\n",
       "    </tr>\n",
       "    <tr>\n",
       "      <th>1</th>\n",
       "      <td>5.589978e+14</td>\n",
       "      <td>5642503</td>\n",
       "      <td>M</td>\n",
       "      <td>2016-04-29T16:08:27Z</td>\n",
       "      <td>2016-04-29T00:00:00Z</td>\n",
       "      <td>56</td>\n",
       "      <td>JARDIM DA PENHA</td>\n",
       "      <td>0</td>\n",
       "      <td>0</td>\n",
       "      <td>0</td>\n",
       "      <td>0</td>\n",
       "      <td>0</td>\n",
       "      <td>0</td>\n",
       "      <td>No</td>\n",
       "    </tr>\n",
       "    <tr>\n",
       "      <th>2</th>\n",
       "      <td>4.262962e+12</td>\n",
       "      <td>5642549</td>\n",
       "      <td>F</td>\n",
       "      <td>2016-04-29T16:19:04Z</td>\n",
       "      <td>2016-04-29T00:00:00Z</td>\n",
       "      <td>62</td>\n",
       "      <td>MATA DA PRAIA</td>\n",
       "      <td>0</td>\n",
       "      <td>0</td>\n",
       "      <td>0</td>\n",
       "      <td>0</td>\n",
       "      <td>0</td>\n",
       "      <td>0</td>\n",
       "      <td>No</td>\n",
       "    </tr>\n",
       "    <tr>\n",
       "      <th>3</th>\n",
       "      <td>8.679512e+11</td>\n",
       "      <td>5642828</td>\n",
       "      <td>F</td>\n",
       "      <td>2016-04-29T17:29:31Z</td>\n",
       "      <td>2016-04-29T00:00:00Z</td>\n",
       "      <td>8</td>\n",
       "      <td>PONTAL DE CAMBURI</td>\n",
       "      <td>0</td>\n",
       "      <td>0</td>\n",
       "      <td>0</td>\n",
       "      <td>0</td>\n",
       "      <td>0</td>\n",
       "      <td>0</td>\n",
       "      <td>No</td>\n",
       "    </tr>\n",
       "    <tr>\n",
       "      <th>4</th>\n",
       "      <td>8.841186e+12</td>\n",
       "      <td>5642494</td>\n",
       "      <td>F</td>\n",
       "      <td>2016-04-29T16:07:23Z</td>\n",
       "      <td>2016-04-29T00:00:00Z</td>\n",
       "      <td>56</td>\n",
       "      <td>JARDIM DA PENHA</td>\n",
       "      <td>0</td>\n",
       "      <td>1</td>\n",
       "      <td>1</td>\n",
       "      <td>0</td>\n",
       "      <td>0</td>\n",
       "      <td>0</td>\n",
       "      <td>No</td>\n",
       "    </tr>\n",
       "  </tbody>\n",
       "</table>\n",
       "</div>"
      ],
      "text/plain": [
       "      PatientId  AppointmentID Gender          ScheduledDay  \\\n",
       "0  2.987250e+13        5642903      F  2016-04-29T18:38:08Z   \n",
       "1  5.589978e+14        5642503      M  2016-04-29T16:08:27Z   \n",
       "2  4.262962e+12        5642549      F  2016-04-29T16:19:04Z   \n",
       "3  8.679512e+11        5642828      F  2016-04-29T17:29:31Z   \n",
       "4  8.841186e+12        5642494      F  2016-04-29T16:07:23Z   \n",
       "\n",
       "         AppointmentDay  Age      Neighbourhood  Scholarship  Hipertension  \\\n",
       "0  2016-04-29T00:00:00Z   62    JARDIM DA PENHA            0             1   \n",
       "1  2016-04-29T00:00:00Z   56    JARDIM DA PENHA            0             0   \n",
       "2  2016-04-29T00:00:00Z   62      MATA DA PRAIA            0             0   \n",
       "3  2016-04-29T00:00:00Z    8  PONTAL DE CAMBURI            0             0   \n",
       "4  2016-04-29T00:00:00Z   56    JARDIM DA PENHA            0             1   \n",
       "\n",
       "   Diabetes  Alcoholism  Handcap  SMS_received No-show  \n",
       "0         0           0        0             0      No  \n",
       "1         0           0        0             0      No  \n",
       "2         0           0        0             0      No  \n",
       "3         0           0        0             0      No  \n",
       "4         1           0        0             0      No  "
      ]
     },
     "execution_count": 1302,
     "metadata": {},
     "output_type": "execute_result"
    }
   ],
   "source": [
    "df.head()"
   ]
  },
  {
   "cell_type": "markdown",
   "id": "35ddbe20-55fb-4fd6-8bfb-b6335e2ab9fc",
   "metadata": {},
   "source": [
    "### Datatype of features "
   ]
  },
  {
   "cell_type": "markdown",
   "id": "d5087e78-b1d5-401b-994f-1270ad8f99ce",
   "metadata": {},
   "source": [
    "categorical binary `Gender` `Scholarship` `Hipertension` `Diabetes` `Alcoholism` `Handcap` `SMS_received` <br>\n",
    "multiple classified `Neighbourhood` <br>\n",
    "numerical `age`<br>\n",
    "remaining `PatientId`\t`AppointmentID` `ScheduledDay`\t`AppointmentDay`"
   ]
  },
  {
   "cell_type": "code",
   "execution_count": 1305,
   "id": "bb43d9e1-9c0a-46aa-a4da-dc50f96c3c70",
   "metadata": {},
   "outputs": [
    {
     "name": "stdout",
     "output_type": "stream",
     "text": [
      "110527\n",
      "No-show\n",
      "No     88208\n",
      "Yes    22319\n",
      "Name: count, dtype: int64\n",
      "No-show\n",
      "No     79.806744\n",
      "Yes    20.193256\n",
      "Name: proportion, dtype: float64\n"
     ]
    },
    {
     "data": {
      "text/plain": [
       "<Axes: xlabel='No-show'>"
      ]
     },
     "execution_count": 1305,
     "metadata": {},
     "output_type": "execute_result"
    },
    {
     "data": {
      "image/png": "[encoded data removed]",
      "text/plain": [
       "<Figure size 640x480 with 1 Axes>"
      ]
     },
     "metadata": {},
     "output_type": "display_data"
    }
   ],
   "source": [
    "print(df['No-show'].count())\n",
    "print(df['No-show'].value_counts())\n",
    "print(df['No-show'].value_counts(normalize=True)*100)\n",
    "df['No-show'].value_counts().plot(kind='bar')\n"
   ]
  },
  {
   "cell_type": "code",
   "execution_count": 1306,
   "id": "bde721ea-f952-47d6-8ba9-8ae282345d85",
   "metadata": {},
   "outputs": [
    {
     "data": {
      "text/plain": [
       "<Axes: ylabel='count'>"
      ]
     },
     "execution_count": 1306,
     "metadata": {},
     "output_type": "execute_result"
    },
    {
     "data": {
      "image/png": "[encoded data removed]",
      "text/plain": [
       "<Figure size 640x480 with 1 Axes>"
      ]
     },
     "metadata": {},
     "output_type": "display_data"
    }
   ],
   "source": [
    "df['No-show'].value_counts().plot(kind='pie')"
   ]
  },
  {
   "cell_type": "markdown",
   "id": "e892fdb8-185a-454b-b478-dfd57eb606b4",
   "metadata": {},
   "source": [
    "### Target\n",
    "> imbalanced\n",
    "> classified"
   ]
  },
  {
   "cell_type": "markdown",
   "id": "a976c8eb-0d37-4bce-9831-28f55bf7a448",
   "metadata": {},
   "source": [
    "### Univariate Analysis "
   ]
  },
  {
   "cell_type": "markdown",
   "id": "cf238757-b1eb-4509-b875-e27cd63e1e5b",
   "metadata": {},
   "source": [
    "#### Age \n",
    "##### conclusions\n",
    "- removed 1 entry with Age<0 and 7 with age >=100\n",
    "- right skewed_ younger patients miss more appointments than older ones\n",
    "- age does have a role in no show "
   ]
  },
  {
   "cell_type": "code",
   "execution_count": 1310,
   "id": "15a250fd-c008-451d-8d5e-367b2f6db27c",
   "metadata": {},
   "outputs": [
    {
     "data": {
      "text/plain": [
       "count    110527.000000\n",
       "mean         37.088874\n",
       "std          23.110205\n",
       "min          -1.000000\n",
       "25%          18.000000\n",
       "50%          37.000000\n",
       "75%          55.000000\n",
       "max         115.000000\n",
       "Name: Age, dtype: float64"
      ]
     },
     "execution_count": 1310,
     "metadata": {},
     "output_type": "execute_result"
    }
   ],
   "source": [
    "df['Age'].describe()"
   ]
  },
  {
   "cell_type": "markdown",
   "id": "fe000373-abfb-442b-affb-fd2b1fbef089",
   "metadata": {},
   "source": [
    "min is -1 _not possible \n",
    "max is high"
   ]
  },
  {
   "cell_type": "code",
   "execution_count": 1312,
   "id": "e7f55e80-6a17-4556-ae07-75c320ef2fbb",
   "metadata": {},
   "outputs": [
    {
     "data": {
      "text/plain": [
       "<Axes: ylabel='Frequency'>"
      ]
     },
     "execution_count": 1312,
     "metadata": {},
     "output_type": "execute_result"
    },
    {
     "data": {
      "image/png": "[encoded data removed]",
      "text/plain": [
       "<Figure size 640x480 with 1 Axes>"
      ]
     },
     "metadata": {},
     "output_type": "display_data"
    }
   ],
   "source": [
    "df['Age'].plot(kind='hist', bins=50)"
   ]
  },
  {
   "cell_type": "code",
   "execution_count": 1313,
   "id": "7dd212f3-1e20-419c-8668-6bf4a6c13485",
   "metadata": {},
   "outputs": [
    {
     "data": {
      "text/plain": [
       "<Axes: ylabel='Density'>"
      ]
     },
     "execution_count": 1313,
     "metadata": {},
     "output_type": "execute_result"
    },
    {
     "data": {
      "image/png": "[encoded data removed]",
      "text/plain": [
       "<Figure size 640x480 with 1 Axes>"
      ]
     },
     "metadata": {},
     "output_type": "display_data"
    }
   ],
   "source": [
    "df['Age'].plot(kind='kde')   "
   ]
  },
  {
   "cell_type": "code",
   "execution_count": 1314,
   "id": "76ab4491-1f89-4b4a-a112-841793d46e06",
   "metadata": {},
   "outputs": [
    {
     "data": {
      "text/plain": [
       "0.12165801789597985"
      ]
     },
     "execution_count": 1314,
     "metadata": {},
     "output_type": "execute_result"
    }
   ],
   "source": [
    "df['Age'].skew()"
   ]
  },
  {
   "cell_type": "code",
   "execution_count": 1315,
   "id": "484d3384-8680-4d9c-8a72-f0578e0359c8",
   "metadata": {},
   "outputs": [
    {
     "data": {
      "text/plain": [
       "<Axes: >"
      ]
     },
     "execution_count": 1315,
     "metadata": {},
     "output_type": "execute_result"
    },
    {
     "data": {
      "image/png": "[encoded data removed]",
      "text/plain": [
       "<Figure size 640x480 with 1 Axes>"
      ]
     },
     "metadata": {},
     "output_type": "display_data"
    }
   ],
   "source": [
    "df['Age'].plot(kind='box')"
   ]
  },
  {
   "cell_type": "markdown",
   "id": "2730dc2f-399b-4f43-8751-a1c5ea20b4c2",
   "metadata": {},
   "source": [
    "age>100 outlier"
   ]
  },
  {
   "cell_type": "code",
   "execution_count": 1317,
   "id": "55e0ab83-bd8e-4e5d-a798-dc12a4313d40",
   "metadata": {},
   "outputs": [
    {
     "data": {
      "text/html": [
       "<div>\n",
       "<style scoped>\n",
       "    .dataframe tbody tr th:only-of-type {\n",
       "        vertical-align: middle;\n",
       "    }\n",
       "\n",
       "    .dataframe tbody tr th {\n",
       "        vertical-align: top;\n",
       "    }\n",
       "\n",
       "    .dataframe thead th {\n",
       "        text-align: right;\n",
       "    }\n",
       "</style>\n",
       "<table border=\"1\" class=\"dataframe\">\n",
       "  <thead>\n",
       "    <tr style=\"text-align: right;\">\n",
       "      <th></th>\n",
       "      <th>PatientId</th>\n",
       "      <th>AppointmentID</th>\n",
       "      <th>Gender</th>\n",
       "      <th>ScheduledDay</th>\n",
       "      <th>AppointmentDay</th>\n",
       "      <th>Age</th>\n",
       "      <th>Neighbourhood</th>\n",
       "      <th>Scholarship</th>\n",
       "      <th>Hipertension</th>\n",
       "      <th>Diabetes</th>\n",
       "      <th>Alcoholism</th>\n",
       "      <th>Handcap</th>\n",
       "      <th>SMS_received</th>\n",
       "      <th>No-show</th>\n",
       "    </tr>\n",
       "  </thead>\n",
       "  <tbody>\n",
       "    <tr>\n",
       "      <th>99832</th>\n",
       "      <td>4.659432e+14</td>\n",
       "      <td>5775010</td>\n",
       "      <td>F</td>\n",
       "      <td>2016-06-06T08:58:13Z</td>\n",
       "      <td>2016-06-06T00:00:00Z</td>\n",
       "      <td>-1</td>\n",
       "      <td>ROMÃO</td>\n",
       "      <td>0</td>\n",
       "      <td>0</td>\n",
       "      <td>0</td>\n",
       "      <td>0</td>\n",
       "      <td>0</td>\n",
       "      <td>0</td>\n",
       "      <td>No</td>\n",
       "    </tr>\n",
       "  </tbody>\n",
       "</table>\n",
       "</div>"
      ],
      "text/plain": [
       "          PatientId  AppointmentID Gender          ScheduledDay  \\\n",
       "99832  4.659432e+14        5775010      F  2016-06-06T08:58:13Z   \n",
       "\n",
       "             AppointmentDay  Age Neighbourhood  Scholarship  Hipertension  \\\n",
       "99832  2016-06-06T00:00:00Z   -1         ROMÃO            0             0   \n",
       "\n",
       "       Diabetes  Alcoholism  Handcap  SMS_received No-show  \n",
       "99832         0           0        0             0      No  "
      ]
     },
     "execution_count": 1317,
     "metadata": {},
     "output_type": "execute_result"
    }
   ],
   "source": [
    "df[df['Age']<0]"
   ]
  },
  {
   "cell_type": "code",
   "execution_count": 1318,
   "id": "35138d8a-cec4-4490-bda5-125de71c7025",
   "metadata": {},
   "outputs": [
    {
     "name": "stdout",
     "output_type": "stream",
     "text": [
      "PatientId         7\n",
      "AppointmentID     7\n",
      "Gender            7\n",
      "ScheduledDay      7\n",
      "AppointmentDay    7\n",
      "Age               7\n",
      "Neighbourhood     7\n",
      "Scholarship       7\n",
      "Hipertension      7\n",
      "Diabetes          7\n",
      "Alcoholism        7\n",
      "Handcap           7\n",
      "SMS_received      7\n",
      "No-show           7\n",
      "dtype: int64\n"
     ]
    }
   ],
   "source": [
    "print(df[df['Age']>100].count())\n"
   ]
  },
  {
   "cell_type": "code",
   "execution_count": 1319,
   "id": "ee45c0dd-f266-46a2-8d9d-b1bf4a19292c",
   "metadata": {},
   "outputs": [
    {
     "data": {
      "text/html": [
       "<div>\n",
       "<style scoped>\n",
       "    .dataframe tbody tr th:only-of-type {\n",
       "        vertical-align: middle;\n",
       "    }\n",
       "\n",
       "    .dataframe tbody tr th {\n",
       "        vertical-align: top;\n",
       "    }\n",
       "\n",
       "    .dataframe thead th {\n",
       "        text-align: right;\n",
       "    }\n",
       "</style>\n",
       "<table border=\"1\" class=\"dataframe\">\n",
       "  <thead>\n",
       "    <tr style=\"text-align: right;\">\n",
       "      <th></th>\n",
       "      <th>PatientId</th>\n",
       "      <th>AppointmentID</th>\n",
       "      <th>Gender</th>\n",
       "      <th>ScheduledDay</th>\n",
       "      <th>AppointmentDay</th>\n",
       "      <th>Age</th>\n",
       "      <th>Neighbourhood</th>\n",
       "      <th>Scholarship</th>\n",
       "      <th>Hipertension</th>\n",
       "      <th>Diabetes</th>\n",
       "      <th>Alcoholism</th>\n",
       "      <th>Handcap</th>\n",
       "      <th>SMS_received</th>\n",
       "      <th>No-show</th>\n",
       "    </tr>\n",
       "  </thead>\n",
       "  <tbody>\n",
       "    <tr>\n",
       "      <th>58014</th>\n",
       "      <td>9.762948e+14</td>\n",
       "      <td>5651757</td>\n",
       "      <td>F</td>\n",
       "      <td>2016-05-03T09:14:53Z</td>\n",
       "      <td>2016-05-03T00:00:00Z</td>\n",
       "      <td>102</td>\n",
       "      <td>CONQUISTA</td>\n",
       "      <td>0</td>\n",
       "      <td>0</td>\n",
       "      <td>0</td>\n",
       "      <td>0</td>\n",
       "      <td>0</td>\n",
       "      <td>0</td>\n",
       "      <td>No</td>\n",
       "    </tr>\n",
       "    <tr>\n",
       "      <th>63912</th>\n",
       "      <td>3.196321e+13</td>\n",
       "      <td>5700278</td>\n",
       "      <td>F</td>\n",
       "      <td>2016-05-16T09:17:44Z</td>\n",
       "      <td>2016-05-19T00:00:00Z</td>\n",
       "      <td>115</td>\n",
       "      <td>ANDORINHAS</td>\n",
       "      <td>0</td>\n",
       "      <td>0</td>\n",
       "      <td>0</td>\n",
       "      <td>0</td>\n",
       "      <td>1</td>\n",
       "      <td>0</td>\n",
       "      <td>Yes</td>\n",
       "    </tr>\n",
       "    <tr>\n",
       "      <th>63915</th>\n",
       "      <td>3.196321e+13</td>\n",
       "      <td>5700279</td>\n",
       "      <td>F</td>\n",
       "      <td>2016-05-16T09:17:44Z</td>\n",
       "      <td>2016-05-19T00:00:00Z</td>\n",
       "      <td>115</td>\n",
       "      <td>ANDORINHAS</td>\n",
       "      <td>0</td>\n",
       "      <td>0</td>\n",
       "      <td>0</td>\n",
       "      <td>0</td>\n",
       "      <td>1</td>\n",
       "      <td>0</td>\n",
       "      <td>Yes</td>\n",
       "    </tr>\n",
       "    <tr>\n",
       "      <th>68127</th>\n",
       "      <td>3.196321e+13</td>\n",
       "      <td>5562812</td>\n",
       "      <td>F</td>\n",
       "      <td>2016-04-08T14:29:17Z</td>\n",
       "      <td>2016-05-16T00:00:00Z</td>\n",
       "      <td>115</td>\n",
       "      <td>ANDORINHAS</td>\n",
       "      <td>0</td>\n",
       "      <td>0</td>\n",
       "      <td>0</td>\n",
       "      <td>0</td>\n",
       "      <td>1</td>\n",
       "      <td>0</td>\n",
       "      <td>Yes</td>\n",
       "    </tr>\n",
       "    <tr>\n",
       "      <th>76284</th>\n",
       "      <td>3.196321e+13</td>\n",
       "      <td>5744037</td>\n",
       "      <td>F</td>\n",
       "      <td>2016-05-30T09:44:51Z</td>\n",
       "      <td>2016-05-30T00:00:00Z</td>\n",
       "      <td>115</td>\n",
       "      <td>ANDORINHAS</td>\n",
       "      <td>0</td>\n",
       "      <td>0</td>\n",
       "      <td>0</td>\n",
       "      <td>0</td>\n",
       "      <td>1</td>\n",
       "      <td>0</td>\n",
       "      <td>No</td>\n",
       "    </tr>\n",
       "    <tr>\n",
       "      <th>90372</th>\n",
       "      <td>2.342836e+11</td>\n",
       "      <td>5751563</td>\n",
       "      <td>F</td>\n",
       "      <td>2016-05-31T10:19:49Z</td>\n",
       "      <td>2016-06-02T00:00:00Z</td>\n",
       "      <td>102</td>\n",
       "      <td>MARIA ORTIZ</td>\n",
       "      <td>0</td>\n",
       "      <td>0</td>\n",
       "      <td>0</td>\n",
       "      <td>0</td>\n",
       "      <td>0</td>\n",
       "      <td>0</td>\n",
       "      <td>No</td>\n",
       "    </tr>\n",
       "    <tr>\n",
       "      <th>97666</th>\n",
       "      <td>7.482346e+14</td>\n",
       "      <td>5717451</td>\n",
       "      <td>F</td>\n",
       "      <td>2016-05-19T07:57:56Z</td>\n",
       "      <td>2016-06-03T00:00:00Z</td>\n",
       "      <td>115</td>\n",
       "      <td>SÃO JOSÉ</td>\n",
       "      <td>0</td>\n",
       "      <td>1</td>\n",
       "      <td>0</td>\n",
       "      <td>0</td>\n",
       "      <td>0</td>\n",
       "      <td>1</td>\n",
       "      <td>No</td>\n",
       "    </tr>\n",
       "  </tbody>\n",
       "</table>\n",
       "</div>"
      ],
      "text/plain": [
       "          PatientId  AppointmentID Gender          ScheduledDay  \\\n",
       "58014  9.762948e+14        5651757      F  2016-05-03T09:14:53Z   \n",
       "63912  3.196321e+13        5700278      F  2016-05-16T09:17:44Z   \n",
       "63915  3.196321e+13        5700279      F  2016-05-16T09:17:44Z   \n",
       "68127  3.196321e+13        5562812      F  2016-04-08T14:29:17Z   \n",
       "76284  3.196321e+13        5744037      F  2016-05-30T09:44:51Z   \n",
       "90372  2.342836e+11        5751563      F  2016-05-31T10:19:49Z   \n",
       "97666  7.482346e+14        5717451      F  2016-05-19T07:57:56Z   \n",
       "\n",
       "             AppointmentDay  Age Neighbourhood  Scholarship  Hipertension  \\\n",
       "58014  2016-05-03T00:00:00Z  102     CONQUISTA            0             0   \n",
       "63912  2016-05-19T00:00:00Z  115    ANDORINHAS            0             0   \n",
       "63915  2016-05-19T00:00:00Z  115    ANDORINHAS            0             0   \n",
       "68127  2016-05-16T00:00:00Z  115    ANDORINHAS            0             0   \n",
       "76284  2016-05-30T00:00:00Z  115    ANDORINHAS            0             0   \n",
       "90372  2016-06-02T00:00:00Z  102   MARIA ORTIZ            0             0   \n",
       "97666  2016-06-03T00:00:00Z  115      SÃO JOSÉ            0             1   \n",
       "\n",
       "       Diabetes  Alcoholism  Handcap  SMS_received No-show  \n",
       "58014         0           0        0             0      No  \n",
       "63912         0           0        1             0     Yes  \n",
       "63915         0           0        1             0     Yes  \n",
       "68127         0           0        1             0     Yes  \n",
       "76284         0           0        1             0      No  \n",
       "90372         0           0        0             0      No  \n",
       "97666         0           0        0             1      No  "
      ]
     },
     "execution_count": 1319,
     "metadata": {},
     "output_type": "execute_result"
    }
   ],
   "source": [
    "df[df['Age']>100]"
   ]
  },
  {
   "cell_type": "code",
   "execution_count": 1320,
   "id": "5e18e392-da44-4bfe-a8bd-7d88a07a19ed",
   "metadata": {},
   "outputs": [],
   "source": [
    "df1 = df[df['Age'] >= 0].copy()\n",
    "df1 = df[df['Age'] <= 100].copy()"
   ]
  },
  {
   "cell_type": "code",
   "execution_count": 1321,
   "id": "e43d0cce-b48e-4a47-a824-15c8e2246fd4",
   "metadata": {},
   "outputs": [
    {
     "name": "stdout",
     "output_type": "stream",
     "text": [
      "<class 'pandas.core.frame.DataFrame'>\n",
      "Index: 110520 entries, 0 to 110526\n",
      "Data columns (total 14 columns):\n",
      " #   Column          Non-Null Count   Dtype  \n",
      "---  ------          --------------   -----  \n",
      " 0   PatientId       110520 non-null  float64\n",
      " 1   AppointmentID   110520 non-null  int64  \n",
      " 2   Gender          110520 non-null  object \n",
      " 3   ScheduledDay    110520 non-null  object \n",
      " 4   AppointmentDay  110520 non-null  object \n",
      " 5   Age             110520 non-null  int64  \n",
      " 6   Neighbourhood   110520 non-null  object \n",
      " 7   Scholarship     110520 non-null  int64  \n",
      " 8   Hipertension    110520 non-null  int64  \n",
      " 9   Diabetes        110520 non-null  int64  \n",
      " 10  Alcoholism      110520 non-null  int64  \n",
      " 11  Handcap         110520 non-null  int64  \n",
      " 12  SMS_received    110520 non-null  int64  \n",
      " 13  No-show         110520 non-null  object \n",
      "dtypes: float64(1), int64(8), object(5)\n",
      "memory usage: 12.6+ MB\n"
     ]
    }
   ],
   "source": [
    "df1.info()"
   ]
  },
  {
   "cell_type": "markdown",
   "id": "1a7608f0-4a35-41c7-a301-607a9953cd43",
   "metadata": {},
   "source": [
    "#### Gender \n",
    "**conclusions**\n",
    "- 65% female and 35% male\n",
    "- For those who did not show up (No-show = \"Yes\"):\n",
    "  20.31% were female and 19.97% were male\n",
    "- Gender alone is not a very strong predictor\n"
   ]
  },
  {
   "cell_type": "code",
   "execution_count": 1323,
   "id": "64962c95-6ac8-46ab-95cb-ba44e4cf021a",
   "metadata": {},
   "outputs": [
    {
     "data": {
      "text/plain": [
       "Gender\n",
       "F    71833\n",
       "M    38687\n",
       "Name: count, dtype: int64"
      ]
     },
     "execution_count": 1323,
     "metadata": {},
     "output_type": "execute_result"
    }
   ],
   "source": [
    "df1['Gender'].value_counts()"
   ]
  },
  {
   "cell_type": "code",
   "execution_count": 1324,
   "id": "453315ac-7aa1-4763-b925-9cc6df7a3328",
   "metadata": {},
   "outputs": [
    {
     "data": {
      "text/plain": [
       "<Axes: xlabel='Gender'>"
      ]
     },
     "execution_count": 1324,
     "metadata": {},
     "output_type": "execute_result"
    },
    {
     "data": {
      "image/png": "[encoded data removed]",
      "text/plain": [
       "<Figure size 300x200 with 1 Axes>"
      ]
     },
     "metadata": {},
     "output_type": "display_data"
    }
   ],
   "source": [
    "df1['Gender'].value_counts().plot(kind='bar' ,figsize=(3,2))"
   ]
  },
  {
   "cell_type": "code",
   "execution_count": 1325,
   "id": "b6cf984a-8c08-427d-8f4b-e5e229e31bd9",
   "metadata": {},
   "outputs": [
    {
     "data": {
      "text/plain": [
       "<Axes: ylabel='count'>"
      ]
     },
     "execution_count": 1325,
     "metadata": {},
     "output_type": "execute_result"
    },
    {
     "data": {
      "image/png": "[encoded data removed]",
      "text/plain": [
       "<Figure size 300x200 with 1 Axes>"
      ]
     },
     "metadata": {},
     "output_type": "display_data"
    }
   ],
   "source": [
    "df1['Gender'].value_counts().plot(kind='pie' ,figsize=(3,2), autopct='%0.1f%%')"
   ]
  },
  {
   "cell_type": "code",
   "execution_count": 1326,
   "id": "00a6a00f-fffc-4922-88d9-1ddee464c849",
   "metadata": {},
   "outputs": [
    {
     "data": {
      "text/plain": [
       "Gender\n",
       "F    0.649955\n",
       "M    0.350045\n",
       "Name: proportion, dtype: float64"
      ]
     },
     "execution_count": 1326,
     "metadata": {},
     "output_type": "execute_result"
    }
   ],
   "source": [
    "df1['Gender'].value_counts(normalize=True)"
   ]
  },
  {
   "cell_type": "code",
   "execution_count": 1327,
   "id": "1ed62883-6d14-499a-b3f6-51edab202c5a",
   "metadata": {},
   "outputs": [
    {
     "data": {
      "text/html": [
       "<div>\n",
       "<style scoped>\n",
       "    .dataframe tbody tr th:only-of-type {\n",
       "        vertical-align: middle;\n",
       "    }\n",
       "\n",
       "    .dataframe tbody tr th {\n",
       "        vertical-align: top;\n",
       "    }\n",
       "\n",
       "    .dataframe thead th {\n",
       "        text-align: right;\n",
       "    }\n",
       "</style>\n",
       "<table border=\"1\" class=\"dataframe\">\n",
       "  <thead>\n",
       "    <tr style=\"text-align: right;\">\n",
       "      <th>No-show</th>\n",
       "      <th>No</th>\n",
       "      <th>Yes</th>\n",
       "    </tr>\n",
       "    <tr>\n",
       "      <th>Gender</th>\n",
       "      <th></th>\n",
       "      <th></th>\n",
       "    </tr>\n",
       "  </thead>\n",
       "  <tbody>\n",
       "    <tr>\n",
       "      <th>F</th>\n",
       "      <td>79.685412</td>\n",
       "      <td>20.314588</td>\n",
       "    </tr>\n",
       "    <tr>\n",
       "      <th>M</th>\n",
       "      <td>80.032052</td>\n",
       "      <td>19.967948</td>\n",
       "    </tr>\n",
       "  </tbody>\n",
       "</table>\n",
       "</div>"
      ],
      "text/plain": [
       "No-show         No        Yes\n",
       "Gender                       \n",
       "F        79.685412  20.314588\n",
       "M        80.032052  19.967948"
      ]
     },
     "execution_count": 1327,
     "metadata": {},
     "output_type": "execute_result"
    }
   ],
   "source": [
    "pd.crosstab(df['Gender'], df['No-show'], normalize='index')*100"
   ]
  },
  {
   "cell_type": "code",
   "execution_count": 1328,
   "id": "e53263cc-2c19-4ee5-9020-3c7ac9caf2ec",
   "metadata": {},
   "outputs": [
    {
     "data": {
      "text/plain": [
       "Index(['PatientId', 'AppointmentID', 'Gender', 'ScheduledDay',\n",
       "       'AppointmentDay', 'Age', 'Neighbourhood', 'Scholarship', 'Hipertension',\n",
       "       'Diabetes', 'Alcoholism', 'Handcap', 'SMS_received', 'No-show'],\n",
       "      dtype='object')"
      ]
     },
     "execution_count": 1328,
     "metadata": {},
     "output_type": "execute_result"
    }
   ],
   "source": [
    "df1.columns"
   ]
  },
  {
   "cell_type": "markdown",
   "id": "b6fdc281-926b-42bd-9943-34ca2fd69766",
   "metadata": {},
   "source": [
    "#### Scholarship\n",
    "\n",
    "- 1 means received scholarship and is from weaker financial background <br>\n",
    "- 9.8% received scholarships\n"
   ]
  },
  {
   "cell_type": "code",
   "execution_count": 1330,
   "id": "a84f5c05-fbdd-4bf9-93e9-95abf0d27c01",
   "metadata": {},
   "outputs": [
    {
     "data": {
      "text/plain": [
       "Scholarship\n",
       "0    99659\n",
       "1    10861\n",
       "Name: count, dtype: int64"
      ]
     },
     "execution_count": 1330,
     "metadata": {},
     "output_type": "execute_result"
    }
   ],
   "source": [
    "df1['Scholarship'].value_counts()"
   ]
  },
  {
   "cell_type": "code",
   "execution_count": 1331,
   "id": "8784f2cb-ea26-4e35-b6c8-229f9c625216",
   "metadata": {},
   "outputs": [
    {
     "data": {
      "text/plain": [
       "<Axes: ylabel='count'>"
      ]
     },
     "execution_count": 1331,
     "metadata": {},
     "output_type": "execute_result"
    },
    {
     "data": {
      "image/png": "[encoded data removed]",
      "text/plain": [
       "<Figure size 300x200 with 1 Axes>"
      ]
     },
     "metadata": {},
     "output_type": "display_data"
    }
   ],
   "source": [
    "df1['Scholarship'].value_counts().plot(kind='pie' ,figsize=(3,2), autopct='%0.1f%%')"
   ]
  },
  {
   "cell_type": "code",
   "execution_count": 1332,
   "id": "75f979b1-4f5a-4f7a-b74c-80e4bde9fb4c",
   "metadata": {},
   "outputs": [
    {
     "data": {
      "text/html": [
       "<div>\n",
       "<style scoped>\n",
       "    .dataframe tbody tr th:only-of-type {\n",
       "        vertical-align: middle;\n",
       "    }\n",
       "\n",
       "    .dataframe tbody tr th {\n",
       "        vertical-align: top;\n",
       "    }\n",
       "\n",
       "    .dataframe thead th {\n",
       "        text-align: right;\n",
       "    }\n",
       "</style>\n",
       "<table border=\"1\" class=\"dataframe\">\n",
       "  <thead>\n",
       "    <tr style=\"text-align: right;\">\n",
       "      <th>No-show</th>\n",
       "      <th>No</th>\n",
       "      <th>Yes</th>\n",
       "    </tr>\n",
       "    <tr>\n",
       "      <th>Scholarship</th>\n",
       "      <th></th>\n",
       "      <th></th>\n",
       "    </tr>\n",
       "  </thead>\n",
       "  <tbody>\n",
       "    <tr>\n",
       "      <th>0</th>\n",
       "      <td>80.194463</td>\n",
       "      <td>19.805537</td>\n",
       "    </tr>\n",
       "    <tr>\n",
       "      <th>1</th>\n",
       "      <td>76.263696</td>\n",
       "      <td>23.736304</td>\n",
       "    </tr>\n",
       "  </tbody>\n",
       "</table>\n",
       "</div>"
      ],
      "text/plain": [
       "No-show             No        Yes\n",
       "Scholarship                      \n",
       "0            80.194463  19.805537\n",
       "1            76.263696  23.736304"
      ]
     },
     "execution_count": 1332,
     "metadata": {},
     "output_type": "execute_result"
    }
   ],
   "source": [
    "pd.crosstab(df1['Scholarship'], df1['No-show'], normalize='index')*100"
   ]
  },
  {
   "cell_type": "markdown",
   "id": "0bde7782-349c-470f-98df-9c1db888a483",
   "metadata": {},
   "source": [
    "### Feature engineering \n",
    "- No show=Yes (1)- patient did not show up, No show= No (0) - patient showed up\n",
    "- Gender  - F->0 and M->1\n",
    "- dropped appointmentid column"
   ]
  },
  {
   "cell_type": "markdown",
   "id": "6db33d11-5ef8-43f6-bb52-5c1874ff9359",
   "metadata": {},
   "source": [
    "#### No-show"
   ]
  },
  {
   "cell_type": "code",
   "execution_count": 1335,
   "id": "3098b40c-18c6-4bdb-bc2f-fdfd30f5965c",
   "metadata": {},
   "outputs": [],
   "source": [
    "df1['No-show'] = df1['No-show'].map({'Yes': 1, 'No': 0})\n"
   ]
  },
  {
   "cell_type": "code",
   "execution_count": 1336,
   "id": "f5856fbd-2904-4f1d-9489-da2bcd92b87b",
   "metadata": {},
   "outputs": [
    {
     "data": {
      "text/plain": [
       "0         No\n",
       "1         No\n",
       "2         No\n",
       "3         No\n",
       "4         No\n",
       "          ..\n",
       "110522    No\n",
       "110523    No\n",
       "110524    No\n",
       "110525    No\n",
       "110526    No\n",
       "Name: No-show, Length: 110527, dtype: object"
      ]
     },
     "execution_count": 1336,
     "metadata": {},
     "output_type": "execute_result"
    }
   ],
   "source": [
    "df['No-show']"
   ]
  },
  {
   "cell_type": "markdown",
   "id": "44fe53f9-aab3-471e-8a6a-73400c214d33",
   "metadata": {},
   "source": [
    "#### Gender"
   ]
  },
  {
   "cell_type": "code",
   "execution_count": 1338,
   "id": "13954298-9e88-4267-a60e-a790d3d8e155",
   "metadata": {},
   "outputs": [],
   "source": [
    "df1['Gender'] = df1['Gender'].map({'M': 1, 'F': 0})"
   ]
  },
  {
   "cell_type": "code",
   "execution_count": 1339,
   "id": "0a45a3b9-0fa0-4a74-86d5-c7cf94ba674e",
   "metadata": {},
   "outputs": [
    {
     "data": {
      "text/plain": [
       "0         0\n",
       "1         1\n",
       "2         0\n",
       "3         0\n",
       "4         0\n",
       "         ..\n",
       "110522    0\n",
       "110523    0\n",
       "110524    0\n",
       "110525    0\n",
       "110526    0\n",
       "Name: Gender, Length: 110520, dtype: int64"
      ]
     },
     "execution_count": 1339,
     "metadata": {},
     "output_type": "execute_result"
    }
   ],
   "source": [
    "df1['Gender']"
   ]
  },
  {
   "cell_type": "markdown",
   "id": "d0d98d26-3e04-468b-9b64-bb19f8d4c47f",
   "metadata": {},
   "source": [
    "#### Drop appointmentid as no relation with no show "
   ]
  },
  {
   "cell_type": "code",
   "execution_count": 1341,
   "id": "0493937a-5b0b-4d93-b62e-0fd9eb87a95e",
   "metadata": {},
   "outputs": [],
   "source": [
    "df1 = df1.drop('AppointmentID', axis=1)\n"
   ]
  },
  {
   "cell_type": "code",
   "execution_count": 1342,
   "id": "ac5519d1-29d9-4580-b975-c470c1f05363",
   "metadata": {},
   "outputs": [
    {
     "data": {
      "text/html": [
       "<div>\n",
       "<style scoped>\n",
       "    .dataframe tbody tr th:only-of-type {\n",
       "        vertical-align: middle;\n",
       "    }\n",
       "\n",
       "    .dataframe tbody tr th {\n",
       "        vertical-align: top;\n",
       "    }\n",
       "\n",
       "    .dataframe thead th {\n",
       "        text-align: right;\n",
       "    }\n",
       "</style>\n",
       "<table border=\"1\" class=\"dataframe\">\n",
       "  <thead>\n",
       "    <tr style=\"text-align: right;\">\n",
       "      <th></th>\n",
       "      <th>PatientId</th>\n",
       "      <th>Gender</th>\n",
       "      <th>ScheduledDay</th>\n",
       "      <th>AppointmentDay</th>\n",
       "      <th>Age</th>\n",
       "      <th>Neighbourhood</th>\n",
       "      <th>Scholarship</th>\n",
       "      <th>Hipertension</th>\n",
       "      <th>Diabetes</th>\n",
       "      <th>Alcoholism</th>\n",
       "      <th>Handcap</th>\n",
       "      <th>SMS_received</th>\n",
       "      <th>No-show</th>\n",
       "    </tr>\n",
       "  </thead>\n",
       "  <tbody>\n",
       "    <tr>\n",
       "      <th>0</th>\n",
       "      <td>2.987250e+13</td>\n",
       "      <td>0</td>\n",
       "      <td>2016-04-29T18:38:08Z</td>\n",
       "      <td>2016-04-29T00:00:00Z</td>\n",
       "      <td>62</td>\n",
       "      <td>JARDIM DA PENHA</td>\n",
       "      <td>0</td>\n",
       "      <td>1</td>\n",
       "      <td>0</td>\n",
       "      <td>0</td>\n",
       "      <td>0</td>\n",
       "      <td>0</td>\n",
       "      <td>0</td>\n",
       "    </tr>\n",
       "    <tr>\n",
       "      <th>1</th>\n",
       "      <td>5.589978e+14</td>\n",
       "      <td>1</td>\n",
       "      <td>2016-04-29T16:08:27Z</td>\n",
       "      <td>2016-04-29T00:00:00Z</td>\n",
       "      <td>56</td>\n",
       "      <td>JARDIM DA PENHA</td>\n",
       "      <td>0</td>\n",
       "      <td>0</td>\n",
       "      <td>0</td>\n",
       "      <td>0</td>\n",
       "      <td>0</td>\n",
       "      <td>0</td>\n",
       "      <td>0</td>\n",
       "    </tr>\n",
       "    <tr>\n",
       "      <th>2</th>\n",
       "      <td>4.262962e+12</td>\n",
       "      <td>0</td>\n",
       "      <td>2016-04-29T16:19:04Z</td>\n",
       "      <td>2016-04-29T00:00:00Z</td>\n",
       "      <td>62</td>\n",
       "      <td>MATA DA PRAIA</td>\n",
       "      <td>0</td>\n",
       "      <td>0</td>\n",
       "      <td>0</td>\n",
       "      <td>0</td>\n",
       "      <td>0</td>\n",
       "      <td>0</td>\n",
       "      <td>0</td>\n",
       "    </tr>\n",
       "    <tr>\n",
       "      <th>3</th>\n",
       "      <td>8.679512e+11</td>\n",
       "      <td>0</td>\n",
       "      <td>2016-04-29T17:29:31Z</td>\n",
       "      <td>2016-04-29T00:00:00Z</td>\n",
       "      <td>8</td>\n",
       "      <td>PONTAL DE CAMBURI</td>\n",
       "      <td>0</td>\n",
       "      <td>0</td>\n",
       "      <td>0</td>\n",
       "      <td>0</td>\n",
       "      <td>0</td>\n",
       "      <td>0</td>\n",
       "      <td>0</td>\n",
       "    </tr>\n",
       "    <tr>\n",
       "      <th>4</th>\n",
       "      <td>8.841186e+12</td>\n",
       "      <td>0</td>\n",
       "      <td>2016-04-29T16:07:23Z</td>\n",
       "      <td>2016-04-29T00:00:00Z</td>\n",
       "      <td>56</td>\n",
       "      <td>JARDIM DA PENHA</td>\n",
       "      <td>0</td>\n",
       "      <td>1</td>\n",
       "      <td>1</td>\n",
       "      <td>0</td>\n",
       "      <td>0</td>\n",
       "      <td>0</td>\n",
       "      <td>0</td>\n",
       "    </tr>\n",
       "  </tbody>\n",
       "</table>\n",
       "</div>"
      ],
      "text/plain": [
       "      PatientId  Gender          ScheduledDay        AppointmentDay  Age  \\\n",
       "0  2.987250e+13       0  2016-04-29T18:38:08Z  2016-04-29T00:00:00Z   62   \n",
       "1  5.589978e+14       1  2016-04-29T16:08:27Z  2016-04-29T00:00:00Z   56   \n",
       "2  4.262962e+12       0  2016-04-29T16:19:04Z  2016-04-29T00:00:00Z   62   \n",
       "3  8.679512e+11       0  2016-04-29T17:29:31Z  2016-04-29T00:00:00Z    8   \n",
       "4  8.841186e+12       0  2016-04-29T16:07:23Z  2016-04-29T00:00:00Z   56   \n",
       "\n",
       "       Neighbourhood  Scholarship  Hipertension  Diabetes  Alcoholism  \\\n",
       "0    JARDIM DA PENHA            0             1         0           0   \n",
       "1    JARDIM DA PENHA            0             0         0           0   \n",
       "2      MATA DA PRAIA            0             0         0           0   \n",
       "3  PONTAL DE CAMBURI            0             0         0           0   \n",
       "4    JARDIM DA PENHA            0             1         1           0   \n",
       "\n",
       "   Handcap  SMS_received  No-show  \n",
       "0        0             0        0  \n",
       "1        0             0        0  \n",
       "2        0             0        0  \n",
       "3        0             0        0  \n",
       "4        0             0        0  "
      ]
     },
     "execution_count": 1342,
     "metadata": {},
     "output_type": "execute_result"
    }
   ],
   "source": [
    "df1.head()"
   ]
  },
  {
   "cell_type": "markdown",
   "id": "1681a924-e061-46af-ac84-90ad5c1b783d",
   "metadata": {},
   "source": [
    "#### waiting time "
   ]
  },
  {
   "cell_type": "code",
   "execution_count": 1344,
   "id": "2d7fd6f8-b7ea-49f4-9228-f07ff88870f0",
   "metadata": {},
   "outputs": [],
   "source": [
    "df1['ScheduledDay'] = pd.to_datetime(df1['ScheduledDay'])\n",
    "df1['AppointmentDay'] = pd.to_datetime(df1['AppointmentDay'])\n",
    "\n",
    "df1['WaitingTime'] = (df1['AppointmentDay'] - df1['ScheduledDay']).dt.days\n"
   ]
  },
  {
   "cell_type": "code",
   "execution_count": 1345,
   "id": "dad6fd20-247b-4014-be6f-63a3438f9066",
   "metadata": {},
   "outputs": [
    {
     "data": {
      "text/html": [
       "<div>\n",
       "<style scoped>\n",
       "    .dataframe tbody tr th:only-of-type {\n",
       "        vertical-align: middle;\n",
       "    }\n",
       "\n",
       "    .dataframe tbody tr th {\n",
       "        vertical-align: top;\n",
       "    }\n",
       "\n",
       "    .dataframe thead th {\n",
       "        text-align: right;\n",
       "    }\n",
       "</style>\n",
       "<table border=\"1\" class=\"dataframe\">\n",
       "  <thead>\n",
       "    <tr style=\"text-align: right;\">\n",
       "      <th></th>\n",
       "      <th>PatientId</th>\n",
       "      <th>Gender</th>\n",
       "      <th>ScheduledDay</th>\n",
       "      <th>AppointmentDay</th>\n",
       "      <th>Age</th>\n",
       "      <th>Neighbourhood</th>\n",
       "      <th>Scholarship</th>\n",
       "      <th>Hipertension</th>\n",
       "      <th>Diabetes</th>\n",
       "      <th>Alcoholism</th>\n",
       "      <th>Handcap</th>\n",
       "      <th>SMS_received</th>\n",
       "      <th>No-show</th>\n",
       "      <th>WaitingTime</th>\n",
       "    </tr>\n",
       "  </thead>\n",
       "  <tbody>\n",
       "    <tr>\n",
       "      <th>0</th>\n",
       "      <td>2.987250e+13</td>\n",
       "      <td>0</td>\n",
       "      <td>2016-04-29 18:38:08+00:00</td>\n",
       "      <td>2016-04-29 00:00:00+00:00</td>\n",
       "      <td>62</td>\n",
       "      <td>JARDIM DA PENHA</td>\n",
       "      <td>0</td>\n",
       "      <td>1</td>\n",
       "      <td>0</td>\n",
       "      <td>0</td>\n",
       "      <td>0</td>\n",
       "      <td>0</td>\n",
       "      <td>0</td>\n",
       "      <td>-1</td>\n",
       "    </tr>\n",
       "    <tr>\n",
       "      <th>1</th>\n",
       "      <td>5.589978e+14</td>\n",
       "      <td>1</td>\n",
       "      <td>2016-04-29 16:08:27+00:00</td>\n",
       "      <td>2016-04-29 00:00:00+00:00</td>\n",
       "      <td>56</td>\n",
       "      <td>JARDIM DA PENHA</td>\n",
       "      <td>0</td>\n",
       "      <td>0</td>\n",
       "      <td>0</td>\n",
       "      <td>0</td>\n",
       "      <td>0</td>\n",
       "      <td>0</td>\n",
       "      <td>0</td>\n",
       "      <td>-1</td>\n",
       "    </tr>\n",
       "    <tr>\n",
       "      <th>2</th>\n",
       "      <td>4.262962e+12</td>\n",
       "      <td>0</td>\n",
       "      <td>2016-04-29 16:19:04+00:00</td>\n",
       "      <td>2016-04-29 00:00:00+00:00</td>\n",
       "      <td>62</td>\n",
       "      <td>MATA DA PRAIA</td>\n",
       "      <td>0</td>\n",
       "      <td>0</td>\n",
       "      <td>0</td>\n",
       "      <td>0</td>\n",
       "      <td>0</td>\n",
       "      <td>0</td>\n",
       "      <td>0</td>\n",
       "      <td>-1</td>\n",
       "    </tr>\n",
       "    <tr>\n",
       "      <th>3</th>\n",
       "      <td>8.679512e+11</td>\n",
       "      <td>0</td>\n",
       "      <td>2016-04-29 17:29:31+00:00</td>\n",
       "      <td>2016-04-29 00:00:00+00:00</td>\n",
       "      <td>8</td>\n",
       "      <td>PONTAL DE CAMBURI</td>\n",
       "      <td>0</td>\n",
       "      <td>0</td>\n",
       "      <td>0</td>\n",
       "      <td>0</td>\n",
       "      <td>0</td>\n",
       "      <td>0</td>\n",
       "      <td>0</td>\n",
       "      <td>-1</td>\n",
       "    </tr>\n",
       "    <tr>\n",
       "      <th>4</th>\n",
       "      <td>8.841186e+12</td>\n",
       "      <td>0</td>\n",
       "      <td>2016-04-29 16:07:23+00:00</td>\n",
       "      <td>2016-04-29 00:00:00+00:00</td>\n",
       "      <td>56</td>\n",
       "      <td>JARDIM DA PENHA</td>\n",
       "      <td>0</td>\n",
       "      <td>1</td>\n",
       "      <td>1</td>\n",
       "      <td>0</td>\n",
       "      <td>0</td>\n",
       "      <td>0</td>\n",
       "      <td>0</td>\n",
       "      <td>-1</td>\n",
       "    </tr>\n",
       "  </tbody>\n",
       "</table>\n",
       "</div>"
      ],
      "text/plain": [
       "      PatientId  Gender              ScheduledDay            AppointmentDay  \\\n",
       "0  2.987250e+13       0 2016-04-29 18:38:08+00:00 2016-04-29 00:00:00+00:00   \n",
       "1  5.589978e+14       1 2016-04-29 16:08:27+00:00 2016-04-29 00:00:00+00:00   \n",
       "2  4.262962e+12       0 2016-04-29 16:19:04+00:00 2016-04-29 00:00:00+00:00   \n",
       "3  8.679512e+11       0 2016-04-29 17:29:31+00:00 2016-04-29 00:00:00+00:00   \n",
       "4  8.841186e+12       0 2016-04-29 16:07:23+00:00 2016-04-29 00:00:00+00:00   \n",
       "\n",
       "   Age      Neighbourhood  Scholarship  Hipertension  Diabetes  Alcoholism  \\\n",
       "0   62    JARDIM DA PENHA            0             1         0           0   \n",
       "1   56    JARDIM DA PENHA            0             0         0           0   \n",
       "2   62      MATA DA PRAIA            0             0         0           0   \n",
       "3    8  PONTAL DE CAMBURI            0             0         0           0   \n",
       "4   56    JARDIM DA PENHA            0             1         1           0   \n",
       "\n",
       "   Handcap  SMS_received  No-show  WaitingTime  \n",
       "0        0             0        0           -1  \n",
       "1        0             0        0           -1  \n",
       "2        0             0        0           -1  \n",
       "3        0             0        0           -1  \n",
       "4        0             0        0           -1  "
      ]
     },
     "execution_count": 1345,
     "metadata": {},
     "output_type": "execute_result"
    }
   ],
   "source": [
    "df1.head()"
   ]
  },
  {
   "cell_type": "code",
   "execution_count": 1346,
   "id": "6787620e-e91d-40ca-b7b9-eb07e66bc0e1",
   "metadata": {},
   "outputs": [
    {
     "data": {
      "text/plain": [
       "WaitingTime\n",
       "-1      38561\n",
       " 1       6724\n",
       " 3       5290\n",
       " 0       5213\n",
       " 6       4906\n",
       "        ...  \n",
       " 81         1\n",
       " 126        1\n",
       " 125        1\n",
       " 150        1\n",
       " 122        1\n",
       "Name: count, Length: 131, dtype: int64"
      ]
     },
     "execution_count": 1346,
     "metadata": {},
     "output_type": "execute_result"
    }
   ],
   "source": [
    "df1['WaitingTime'].value_counts()         #-1 means appointment was schedules after appointment done, so clip at 0"
   ]
  },
  {
   "cell_type": "code",
   "execution_count": 1347,
   "id": "2be2907a-348b-4d93-bdb8-24925ee46daf",
   "metadata": {},
   "outputs": [],
   "source": [
    "df1['WaitingTime'] = (df1['AppointmentDay'] - df1['ScheduledDay']).dt.days.clip(lower=0)"
   ]
  },
  {
   "cell_type": "code",
   "execution_count": 1348,
   "id": "421529f0-7567-4ab8-8608-5636a08e51ec",
   "metadata": {},
   "outputs": [
    {
     "data": {
      "text/plain": [
       "WaitingTime\n",
       "0      43779\n",
       "1       6724\n",
       "3       5290\n",
       "6       4906\n",
       "5       4037\n",
       "       ...  \n",
       "131        1\n",
       "124        1\n",
       "116        1\n",
       "145        1\n",
       "122        1\n",
       "Name: count, Length: 128, dtype: int64"
      ]
     },
     "execution_count": 1348,
     "metadata": {},
     "output_type": "execute_result"
    }
   ],
   "source": [
    "df1['WaitingTime'].value_counts()    \n"
   ]
  },
  {
   "cell_type": "code",
   "execution_count": 1349,
   "id": "46f07953-0357-49b3-bd81-77d383f00baf",
   "metadata": {},
   "outputs": [
    {
     "data": {
      "text/html": [
       "<div>\n",
       "<style scoped>\n",
       "    .dataframe tbody tr th:only-of-type {\n",
       "        vertical-align: middle;\n",
       "    }\n",
       "\n",
       "    .dataframe tbody tr th {\n",
       "        vertical-align: top;\n",
       "    }\n",
       "\n",
       "    .dataframe thead th {\n",
       "        text-align: right;\n",
       "    }\n",
       "</style>\n",
       "<table border=\"1\" class=\"dataframe\">\n",
       "  <thead>\n",
       "    <tr style=\"text-align: right;\">\n",
       "      <th>No-show</th>\n",
       "      <th>0</th>\n",
       "      <th>1</th>\n",
       "    </tr>\n",
       "    <tr>\n",
       "      <th>WaitingTime</th>\n",
       "      <th></th>\n",
       "      <th></th>\n",
       "    </tr>\n",
       "  </thead>\n",
       "  <tbody>\n",
       "    <tr>\n",
       "      <th>0</th>\n",
       "      <td>93.352977</td>\n",
       "      <td>6.647023</td>\n",
       "    </tr>\n",
       "    <tr>\n",
       "      <th>1</th>\n",
       "      <td>76.174896</td>\n",
       "      <td>23.825104</td>\n",
       "    </tr>\n",
       "    <tr>\n",
       "      <th>2</th>\n",
       "      <td>76.526508</td>\n",
       "      <td>23.473492</td>\n",
       "    </tr>\n",
       "    <tr>\n",
       "      <th>3</th>\n",
       "      <td>76.729679</td>\n",
       "      <td>23.270321</td>\n",
       "    </tr>\n",
       "    <tr>\n",
       "      <th>4</th>\n",
       "      <td>73.390296</td>\n",
       "      <td>26.609704</td>\n",
       "    </tr>\n",
       "    <tr>\n",
       "      <th>...</th>\n",
       "      <td>...</td>\n",
       "      <td>...</td>\n",
       "    </tr>\n",
       "    <tr>\n",
       "      <th>154</th>\n",
       "      <td>40.000000</td>\n",
       "      <td>60.000000</td>\n",
       "    </tr>\n",
       "    <tr>\n",
       "      <th>161</th>\n",
       "      <td>81.818182</td>\n",
       "      <td>18.181818</td>\n",
       "    </tr>\n",
       "    <tr>\n",
       "      <th>168</th>\n",
       "      <td>87.500000</td>\n",
       "      <td>12.500000</td>\n",
       "    </tr>\n",
       "    <tr>\n",
       "      <th>175</th>\n",
       "      <td>62.500000</td>\n",
       "      <td>37.500000</td>\n",
       "    </tr>\n",
       "    <tr>\n",
       "      <th>178</th>\n",
       "      <td>80.000000</td>\n",
       "      <td>20.000000</td>\n",
       "    </tr>\n",
       "  </tbody>\n",
       "</table>\n",
       "<p>128 rows × 2 columns</p>\n",
       "</div>"
      ],
      "text/plain": [
       "No-show              0          1\n",
       "WaitingTime                      \n",
       "0            93.352977   6.647023\n",
       "1            76.174896  23.825104\n",
       "2            76.526508  23.473492\n",
       "3            76.729679  23.270321\n",
       "4            73.390296  26.609704\n",
       "...                ...        ...\n",
       "154          40.000000  60.000000\n",
       "161          81.818182  18.181818\n",
       "168          87.500000  12.500000\n",
       "175          62.500000  37.500000\n",
       "178          80.000000  20.000000\n",
       "\n",
       "[128 rows x 2 columns]"
      ]
     },
     "execution_count": 1349,
     "metadata": {},
     "output_type": "execute_result"
    }
   ],
   "source": [
    "pd.crosstab(df1['WaitingTime'], df1['No-show'], normalize='index')*100"
   ]
  },
  {
   "cell_type": "code",
   "execution_count": 1350,
   "id": "827548fd-c05b-42e8-a517-3e6f9c580681",
   "metadata": {},
   "outputs": [
    {
     "data": {
      "image/png": "[encoded data removed]",
      "text/plain": [
       "<Figure size 640x480 with 1 Axes>"
      ]
     },
     "metadata": {},
     "output_type": "display_data"
    }
   ],
   "source": [
    "import seaborn as sns\n",
    "import matplotlib.pyplot as plt\n",
    "\n",
    "sns.kdeplot(data=df1[df1['No-show'] == 0], x='WaitingTime', label='Showed', fill=True)\n",
    "sns.kdeplot(data=df1[df1['No-show'] == 1], x='WaitingTime', label='No-show', fill=True)\n",
    "\n",
    "plt.xlabel('Waiting Time (Days)')\n",
    "plt.ylabel('Density')\n",
    "plt.title('KDE of Waiting Time by No-show Status')\n",
    "plt.legend()\n",
    "plt.show()\n"
   ]
  },
  {
   "cell_type": "code",
   "execution_count": 1351,
   "id": "6e7c70cc-45df-4cf8-b379-da33d89874b0",
   "metadata": {},
   "outputs": [],
   "source": [
    "df1['Weekday'] = df1['AppointmentDay'].dt.weekday #0-mon, 6-sun\n",
    "\n"
   ]
  },
  {
   "cell_type": "code",
   "execution_count": 1352,
   "id": "28743158-8f4c-4e79-922f-2a71c8f2bc83",
   "metadata": {},
   "outputs": [
    {
     "data": {
      "text/html": [
       "<div>\n",
       "<style scoped>\n",
       "    .dataframe tbody tr th:only-of-type {\n",
       "        vertical-align: middle;\n",
       "    }\n",
       "\n",
       "    .dataframe tbody tr th {\n",
       "        vertical-align: top;\n",
       "    }\n",
       "\n",
       "    .dataframe thead th {\n",
       "        text-align: right;\n",
       "    }\n",
       "</style>\n",
       "<table border=\"1\" class=\"dataframe\">\n",
       "  <thead>\n",
       "    <tr style=\"text-align: right;\">\n",
       "      <th></th>\n",
       "      <th>PatientId</th>\n",
       "      <th>Gender</th>\n",
       "      <th>ScheduledDay</th>\n",
       "      <th>AppointmentDay</th>\n",
       "      <th>Age</th>\n",
       "      <th>Neighbourhood</th>\n",
       "      <th>Scholarship</th>\n",
       "      <th>Hipertension</th>\n",
       "      <th>Diabetes</th>\n",
       "      <th>Alcoholism</th>\n",
       "      <th>Handcap</th>\n",
       "      <th>SMS_received</th>\n",
       "      <th>No-show</th>\n",
       "      <th>WaitingTime</th>\n",
       "      <th>Weekday</th>\n",
       "    </tr>\n",
       "  </thead>\n",
       "  <tbody>\n",
       "    <tr>\n",
       "      <th>0</th>\n",
       "      <td>2.987250e+13</td>\n",
       "      <td>0</td>\n",
       "      <td>2016-04-29 18:38:08+00:00</td>\n",
       "      <td>2016-04-29 00:00:00+00:00</td>\n",
       "      <td>62</td>\n",
       "      <td>JARDIM DA PENHA</td>\n",
       "      <td>0</td>\n",
       "      <td>1</td>\n",
       "      <td>0</td>\n",
       "      <td>0</td>\n",
       "      <td>0</td>\n",
       "      <td>0</td>\n",
       "      <td>0</td>\n",
       "      <td>0</td>\n",
       "      <td>4</td>\n",
       "    </tr>\n",
       "    <tr>\n",
       "      <th>1</th>\n",
       "      <td>5.589978e+14</td>\n",
       "      <td>1</td>\n",
       "      <td>2016-04-29 16:08:27+00:00</td>\n",
       "      <td>2016-04-29 00:00:00+00:00</td>\n",
       "      <td>56</td>\n",
       "      <td>JARDIM DA PENHA</td>\n",
       "      <td>0</td>\n",
       "      <td>0</td>\n",
       "      <td>0</td>\n",
       "      <td>0</td>\n",
       "      <td>0</td>\n",
       "      <td>0</td>\n",
       "      <td>0</td>\n",
       "      <td>0</td>\n",
       "      <td>4</td>\n",
       "    </tr>\n",
       "    <tr>\n",
       "      <th>2</th>\n",
       "      <td>4.262962e+12</td>\n",
       "      <td>0</td>\n",
       "      <td>2016-04-29 16:19:04+00:00</td>\n",
       "      <td>2016-04-29 00:00:00+00:00</td>\n",
       "      <td>62</td>\n",
       "      <td>MATA DA PRAIA</td>\n",
       "      <td>0</td>\n",
       "      <td>0</td>\n",
       "      <td>0</td>\n",
       "      <td>0</td>\n",
       "      <td>0</td>\n",
       "      <td>0</td>\n",
       "      <td>0</td>\n",
       "      <td>0</td>\n",
       "      <td>4</td>\n",
       "    </tr>\n",
       "    <tr>\n",
       "      <th>3</th>\n",
       "      <td>8.679512e+11</td>\n",
       "      <td>0</td>\n",
       "      <td>2016-04-29 17:29:31+00:00</td>\n",
       "      <td>2016-04-29 00:00:00+00:00</td>\n",
       "      <td>8</td>\n",
       "      <td>PONTAL DE CAMBURI</td>\n",
       "      <td>0</td>\n",
       "      <td>0</td>\n",
       "      <td>0</td>\n",
       "      <td>0</td>\n",
       "      <td>0</td>\n",
       "      <td>0</td>\n",
       "      <td>0</td>\n",
       "      <td>0</td>\n",
       "      <td>4</td>\n",
       "    </tr>\n",
       "    <tr>\n",
       "      <th>4</th>\n",
       "      <td>8.841186e+12</td>\n",
       "      <td>0</td>\n",
       "      <td>2016-04-29 16:07:23+00:00</td>\n",
       "      <td>2016-04-29 00:00:00+00:00</td>\n",
       "      <td>56</td>\n",
       "      <td>JARDIM DA PENHA</td>\n",
       "      <td>0</td>\n",
       "      <td>1</td>\n",
       "      <td>1</td>\n",
       "      <td>0</td>\n",
       "      <td>0</td>\n",
       "      <td>0</td>\n",
       "      <td>0</td>\n",
       "      <td>0</td>\n",
       "      <td>4</td>\n",
       "    </tr>\n",
       "  </tbody>\n",
       "</table>\n",
       "</div>"
      ],
      "text/plain": [
       "      PatientId  Gender              ScheduledDay            AppointmentDay  \\\n",
       "0  2.987250e+13       0 2016-04-29 18:38:08+00:00 2016-04-29 00:00:00+00:00   \n",
       "1  5.589978e+14       1 2016-04-29 16:08:27+00:00 2016-04-29 00:00:00+00:00   \n",
       "2  4.262962e+12       0 2016-04-29 16:19:04+00:00 2016-04-29 00:00:00+00:00   \n",
       "3  8.679512e+11       0 2016-04-29 17:29:31+00:00 2016-04-29 00:00:00+00:00   \n",
       "4  8.841186e+12       0 2016-04-29 16:07:23+00:00 2016-04-29 00:00:00+00:00   \n",
       "\n",
       "   Age      Neighbourhood  Scholarship  Hipertension  Diabetes  Alcoholism  \\\n",
       "0   62    JARDIM DA PENHA            0             1         0           0   \n",
       "1   56    JARDIM DA PENHA            0             0         0           0   \n",
       "2   62      MATA DA PRAIA            0             0         0           0   \n",
       "3    8  PONTAL DE CAMBURI            0             0         0           0   \n",
       "4   56    JARDIM DA PENHA            0             1         1           0   \n",
       "\n",
       "   Handcap  SMS_received  No-show  WaitingTime  Weekday  \n",
       "0        0             0        0            0        4  \n",
       "1        0             0        0            0        4  \n",
       "2        0             0        0            0        4  \n",
       "3        0             0        0            0        4  \n",
       "4        0             0        0            0        4  "
      ]
     },
     "execution_count": 1352,
     "metadata": {},
     "output_type": "execute_result"
    }
   ],
   "source": [
    "df1.head()"
   ]
  },
  {
   "cell_type": "code",
   "execution_count": 1353,
   "id": "4d1fb212-e8e6-45dc-8406-34aebc4e2799",
   "metadata": {},
   "outputs": [],
   "source": [
    "df1.drop(['ScheduledDay', 'AppointmentDay'], axis=1, inplace=True)\n"
   ]
  },
  {
   "cell_type": "code",
   "execution_count": 1354,
   "id": "16b2f366-50b7-4b75-a56a-f178396acf69",
   "metadata": {},
   "outputs": [
    {
     "data": {
      "text/html": [
       "<div>\n",
       "<style scoped>\n",
       "    .dataframe tbody tr th:only-of-type {\n",
       "        vertical-align: middle;\n",
       "    }\n",
       "\n",
       "    .dataframe tbody tr th {\n",
       "        vertical-align: top;\n",
       "    }\n",
       "\n",
       "    .dataframe thead th {\n",
       "        text-align: right;\n",
       "    }\n",
       "</style>\n",
       "<table border=\"1\" class=\"dataframe\">\n",
       "  <thead>\n",
       "    <tr style=\"text-align: right;\">\n",
       "      <th></th>\n",
       "      <th>PatientId</th>\n",
       "      <th>Gender</th>\n",
       "      <th>Age</th>\n",
       "      <th>Neighbourhood</th>\n",
       "      <th>Scholarship</th>\n",
       "      <th>Hipertension</th>\n",
       "      <th>Diabetes</th>\n",
       "      <th>Alcoholism</th>\n",
       "      <th>Handcap</th>\n",
       "      <th>SMS_received</th>\n",
       "      <th>No-show</th>\n",
       "      <th>WaitingTime</th>\n",
       "      <th>Weekday</th>\n",
       "    </tr>\n",
       "  </thead>\n",
       "  <tbody>\n",
       "    <tr>\n",
       "      <th>0</th>\n",
       "      <td>2.987250e+13</td>\n",
       "      <td>0</td>\n",
       "      <td>62</td>\n",
       "      <td>JARDIM DA PENHA</td>\n",
       "      <td>0</td>\n",
       "      <td>1</td>\n",
       "      <td>0</td>\n",
       "      <td>0</td>\n",
       "      <td>0</td>\n",
       "      <td>0</td>\n",
       "      <td>0</td>\n",
       "      <td>0</td>\n",
       "      <td>4</td>\n",
       "    </tr>\n",
       "    <tr>\n",
       "      <th>1</th>\n",
       "      <td>5.589978e+14</td>\n",
       "      <td>1</td>\n",
       "      <td>56</td>\n",
       "      <td>JARDIM DA PENHA</td>\n",
       "      <td>0</td>\n",
       "      <td>0</td>\n",
       "      <td>0</td>\n",
       "      <td>0</td>\n",
       "      <td>0</td>\n",
       "      <td>0</td>\n",
       "      <td>0</td>\n",
       "      <td>0</td>\n",
       "      <td>4</td>\n",
       "    </tr>\n",
       "    <tr>\n",
       "      <th>2</th>\n",
       "      <td>4.262962e+12</td>\n",
       "      <td>0</td>\n",
       "      <td>62</td>\n",
       "      <td>MATA DA PRAIA</td>\n",
       "      <td>0</td>\n",
       "      <td>0</td>\n",
       "      <td>0</td>\n",
       "      <td>0</td>\n",
       "      <td>0</td>\n",
       "      <td>0</td>\n",
       "      <td>0</td>\n",
       "      <td>0</td>\n",
       "      <td>4</td>\n",
       "    </tr>\n",
       "    <tr>\n",
       "      <th>3</th>\n",
       "      <td>8.679512e+11</td>\n",
       "      <td>0</td>\n",
       "      <td>8</td>\n",
       "      <td>PONTAL DE CAMBURI</td>\n",
       "      <td>0</td>\n",
       "      <td>0</td>\n",
       "      <td>0</td>\n",
       "      <td>0</td>\n",
       "      <td>0</td>\n",
       "      <td>0</td>\n",
       "      <td>0</td>\n",
       "      <td>0</td>\n",
       "      <td>4</td>\n",
       "    </tr>\n",
       "    <tr>\n",
       "      <th>4</th>\n",
       "      <td>8.841186e+12</td>\n",
       "      <td>0</td>\n",
       "      <td>56</td>\n",
       "      <td>JARDIM DA PENHA</td>\n",
       "      <td>0</td>\n",
       "      <td>1</td>\n",
       "      <td>1</td>\n",
       "      <td>0</td>\n",
       "      <td>0</td>\n",
       "      <td>0</td>\n",
       "      <td>0</td>\n",
       "      <td>0</td>\n",
       "      <td>4</td>\n",
       "    </tr>\n",
       "  </tbody>\n",
       "</table>\n",
       "</div>"
      ],
      "text/plain": [
       "      PatientId  Gender  Age      Neighbourhood  Scholarship  Hipertension  \\\n",
       "0  2.987250e+13       0   62    JARDIM DA PENHA            0             1   \n",
       "1  5.589978e+14       1   56    JARDIM DA PENHA            0             0   \n",
       "2  4.262962e+12       0   62      MATA DA PRAIA            0             0   \n",
       "3  8.679512e+11       0    8  PONTAL DE CAMBURI            0             0   \n",
       "4  8.841186e+12       0   56    JARDIM DA PENHA            0             1   \n",
       "\n",
       "   Diabetes  Alcoholism  Handcap  SMS_received  No-show  WaitingTime  Weekday  \n",
       "0         0           0        0             0        0            0        4  \n",
       "1         0           0        0             0        0            0        4  \n",
       "2         0           0        0             0        0            0        4  \n",
       "3         0           0        0             0        0            0        4  \n",
       "4         1           0        0             0        0            0        4  "
      ]
     },
     "execution_count": 1354,
     "metadata": {},
     "output_type": "execute_result"
    }
   ],
   "source": [
    "df1.head()"
   ]
  },
  {
   "cell_type": "code",
   "execution_count": 1355,
   "id": "2e29ebf3-c791-4fad-9b31-4ce5f3a06c70",
   "metadata": {},
   "outputs": [
    {
     "data": {
      "image/png": "[encoded data removed]",
      "text/plain": [
       "<Figure size 640x480 with 1 Axes>"
      ]
     },
     "metadata": {},
     "output_type": "display_data"
    }
   ],
   "source": [
    "import seaborn as sns\n",
    "import matplotlib.pyplot as plt\n",
    "\n",
    "sns.countplot(data=df1, x='Weekday', hue='No-show')\n",
    "plt.xlabel('Weekday (0=Mon, ..., 6=Sun)')\n",
    "plt.ylabel('Number of Appointments')\n",
    "plt.title('No-show vs Weekday')\n",
    "plt.legend(title='No-show', labels=['Showed (0)', 'No-show (1)'])\n",
    "plt.show()\n"
   ]
  },
  {
   "cell_type": "code",
   "execution_count": 1356,
   "id": "bad8df0d-310a-4198-aa6a-14cd312e4466",
   "metadata": {},
   "outputs": [
    {
     "data": {
      "text/plain": [
       "Weekday\n",
       "2    25867\n",
       "1    25639\n",
       "0    22713\n",
       "4    19018\n",
       "3    17244\n",
       "5       39\n",
       "Name: count, dtype: int64"
      ]
     },
     "execution_count": 1356,
     "metadata": {},
     "output_type": "execute_result"
    }
   ],
   "source": [
    "df1['Weekday'].value_counts()        #no apppointment on sunday, very few on saturday"
   ]
  },
  {
   "cell_type": "code",
   "execution_count": 1357,
   "id": "b32f9aa0-bfcb-4dcc-b295-6c9bd049c51c",
   "metadata": {},
   "outputs": [
    {
     "data": {
      "text/html": [
       "<div>\n",
       "<style scoped>\n",
       "    .dataframe tbody tr th:only-of-type {\n",
       "        vertical-align: middle;\n",
       "    }\n",
       "\n",
       "    .dataframe tbody tr th {\n",
       "        vertical-align: top;\n",
       "    }\n",
       "\n",
       "    .dataframe thead th {\n",
       "        text-align: right;\n",
       "    }\n",
       "</style>\n",
       "<table border=\"1\" class=\"dataframe\">\n",
       "  <thead>\n",
       "    <tr style=\"text-align: right;\">\n",
       "      <th>No-show</th>\n",
       "      <th>0</th>\n",
       "      <th>1</th>\n",
       "    </tr>\n",
       "    <tr>\n",
       "      <th>Weekday</th>\n",
       "      <th></th>\n",
       "      <th></th>\n",
       "    </tr>\n",
       "  </thead>\n",
       "  <tbody>\n",
       "    <tr>\n",
       "      <th>0</th>\n",
       "      <td>79.355435</td>\n",
       "      <td>20.644565</td>\n",
       "    </tr>\n",
       "    <tr>\n",
       "      <th>1</th>\n",
       "      <td>79.905613</td>\n",
       "      <td>20.094387</td>\n",
       "    </tr>\n",
       "    <tr>\n",
       "      <th>2</th>\n",
       "      <td>80.310821</td>\n",
       "      <td>19.689179</td>\n",
       "    </tr>\n",
       "    <tr>\n",
       "      <th>3</th>\n",
       "      <td>80.654141</td>\n",
       "      <td>19.345859</td>\n",
       "    </tr>\n",
       "    <tr>\n",
       "      <th>4</th>\n",
       "      <td>78.772742</td>\n",
       "      <td>21.227258</td>\n",
       "    </tr>\n",
       "    <tr>\n",
       "      <th>5</th>\n",
       "      <td>76.923077</td>\n",
       "      <td>23.076923</td>\n",
       "    </tr>\n",
       "  </tbody>\n",
       "</table>\n",
       "</div>"
      ],
      "text/plain": [
       "No-show          0          1\n",
       "Weekday                      \n",
       "0        79.355435  20.644565\n",
       "1        79.905613  20.094387\n",
       "2        80.310821  19.689179\n",
       "3        80.654141  19.345859\n",
       "4        78.772742  21.227258\n",
       "5        76.923077  23.076923"
      ]
     },
     "execution_count": 1357,
     "metadata": {},
     "output_type": "execute_result"
    }
   ],
   "source": [
    " pd.crosstab(df1['Weekday'], df1['No-show'], normalize='index') * 100      #Saturday (weekday 5) has a noticeably higher no-show rate (~23%) compared to other days"
   ]
  },
  {
   "cell_type": "code",
   "execution_count": 1358,
   "id": "98c9fe4c-c485-4a8c-a5b9-851189bf8a97",
   "metadata": {},
   "outputs": [
    {
     "data": {
      "text/plain": [
       "PatientId\n",
       "8.221459e+14    88\n",
       "9.963767e+10    84\n",
       "2.688613e+13    70\n",
       "3.353478e+13    65\n",
       "7.579746e+13    62\n",
       "                ..\n",
       "5.854420e+12     1\n",
       "2.632743e+12     1\n",
       "2.625552e+14     1\n",
       "2.541779e+12     1\n",
       "1.557663e+13     1\n",
       "Name: count, Length: 62295, dtype: int64"
      ]
     },
     "execution_count": 1358,
     "metadata": {},
     "output_type": "execute_result"
    }
   ],
   "source": [
    "df1['PatientId'].value_counts()           #not dropping this column as same patient came for multiple appointments, now show could be related to patient behaviour"
   ]
  },
  {
   "cell_type": "code",
   "execution_count": 1359,
   "id": "b694afd9-772a-456e-891e-169db11e0790",
   "metadata": {},
   "outputs": [
    {
     "data": {
      "text/plain": [
       "Neighbourhood\n",
       "JARDIM CAMBURI                 7717\n",
       "MARIA ORTIZ                    5804\n",
       "RESISTÊNCIA                    4431\n",
       "JARDIM DA PENHA                3877\n",
       "ITARARÉ                        3514\n",
       "                               ... \n",
       "ILHA DO BOI                      35\n",
       "ILHA DO FRADE                    10\n",
       "AEROPORTO                         8\n",
       "ILHAS OCEÂNICAS DE TRINDADE       2\n",
       "PARQUE INDUSTRIAL                 1\n",
       "Name: count, Length: 81, dtype: int64"
      ]
     },
     "execution_count": 1359,
     "metadata": {},
     "output_type": "execute_result"
    }
   ],
   "source": [
    "df1['Neighbourhood'].value_counts()"
   ]
  },
  {
   "cell_type": "markdown",
   "id": "09d87ce9-c2c9-48b1-b9a2-f84adff20de2",
   "metadata": {},
   "source": [
    "If only 1 or 2 patients are from a neighbourhood, the no-show % can swing drastically (e.g., 0% or 100%) but doesn't represent a pattern."
   ]
  },
  {
   "cell_type": "code",
   "execution_count": 1361,
   "id": "83bcfc45-7802-49e3-9c98-3608d7f4cdb3",
   "metadata": {},
   "outputs": [
    {
     "data": {
      "text/html": [
       "<div>\n",
       "<style scoped>\n",
       "    .dataframe tbody tr th:only-of-type {\n",
       "        vertical-align: middle;\n",
       "    }\n",
       "\n",
       "    .dataframe tbody tr th {\n",
       "        vertical-align: top;\n",
       "    }\n",
       "\n",
       "    .dataframe thead th {\n",
       "        text-align: right;\n",
       "    }\n",
       "</style>\n",
       "<table border=\"1\" class=\"dataframe\">\n",
       "  <thead>\n",
       "    <tr style=\"text-align: right;\">\n",
       "      <th></th>\n",
       "      <th>TotalAppointments</th>\n",
       "      <th>NoShowPercentage</th>\n",
       "    </tr>\n",
       "    <tr>\n",
       "      <th>Neighbourhood</th>\n",
       "      <th></th>\n",
       "      <th></th>\n",
       "    </tr>\n",
       "  </thead>\n",
       "  <tbody>\n",
       "    <tr>\n",
       "      <th>ILHAS OCEÂNICAS DE TRINDADE</th>\n",
       "      <td>2</td>\n",
       "      <td>100.000000</td>\n",
       "    </tr>\n",
       "    <tr>\n",
       "      <th>SANTOS DUMONT</th>\n",
       "      <td>1276</td>\n",
       "      <td>28.918495</td>\n",
       "    </tr>\n",
       "    <tr>\n",
       "      <th>SANTA CECÍLIA</th>\n",
       "      <td>448</td>\n",
       "      <td>27.455357</td>\n",
       "    </tr>\n",
       "    <tr>\n",
       "      <th>SANTA CLARA</th>\n",
       "      <td>506</td>\n",
       "      <td>26.482213</td>\n",
       "    </tr>\n",
       "    <tr>\n",
       "      <th>ITARARÉ</th>\n",
       "      <td>3514</td>\n",
       "      <td>26.266363</td>\n",
       "    </tr>\n",
       "    <tr>\n",
       "      <th>JESUS DE NAZARETH</th>\n",
       "      <td>2853</td>\n",
       "      <td>24.395373</td>\n",
       "    </tr>\n",
       "    <tr>\n",
       "      <th>HORTO</th>\n",
       "      <td>175</td>\n",
       "      <td>24.000000</td>\n",
       "    </tr>\n",
       "    <tr>\n",
       "      <th>ILHA DO PRÍNCIPE</th>\n",
       "      <td>2266</td>\n",
       "      <td>23.477493</td>\n",
       "    </tr>\n",
       "    <tr>\n",
       "      <th>CARATOÍRA</th>\n",
       "      <td>2565</td>\n",
       "      <td>23.040936</td>\n",
       "    </tr>\n",
       "    <tr>\n",
       "      <th>ANDORINHAS</th>\n",
       "      <td>2258</td>\n",
       "      <td>22.940655</td>\n",
       "    </tr>\n",
       "    <tr>\n",
       "      <th>PRAIA DO SUÁ</th>\n",
       "      <td>1288</td>\n",
       "      <td>22.826087</td>\n",
       "    </tr>\n",
       "    <tr>\n",
       "      <th>GURIGICA</th>\n",
       "      <td>2018</td>\n",
       "      <td>22.596630</td>\n",
       "    </tr>\n",
       "    <tr>\n",
       "      <th>BENTO FERREIRA</th>\n",
       "      <td>858</td>\n",
       "      <td>22.494172</td>\n",
       "    </tr>\n",
       "    <tr>\n",
       "      <th>PARQUE MOSCOSO</th>\n",
       "      <td>802</td>\n",
       "      <td>22.319202</td>\n",
       "    </tr>\n",
       "    <tr>\n",
       "      <th>MARUÍPE</th>\n",
       "      <td>1902</td>\n",
       "      <td>22.292324</td>\n",
       "    </tr>\n",
       "    <tr>\n",
       "      <th>DO MOSCOSO</th>\n",
       "      <td>413</td>\n",
       "      <td>22.276029</td>\n",
       "    </tr>\n",
       "    <tr>\n",
       "      <th>ENSEADA DO SUÁ</th>\n",
       "      <td>235</td>\n",
       "      <td>22.127660</td>\n",
       "    </tr>\n",
       "    <tr>\n",
       "      <th>ARIOVALDO FAVALESSA</th>\n",
       "      <td>282</td>\n",
       "      <td>21.985816</td>\n",
       "    </tr>\n",
       "    <tr>\n",
       "      <th>ILHA DAS CAIEIRAS</th>\n",
       "      <td>1071</td>\n",
       "      <td>21.942110</td>\n",
       "    </tr>\n",
       "    <tr>\n",
       "      <th>FONTE GRANDE</th>\n",
       "      <td>682</td>\n",
       "      <td>21.847507</td>\n",
       "    </tr>\n",
       "  </tbody>\n",
       "</table>\n",
       "</div>"
      ],
      "text/plain": [
       "                             TotalAppointments  NoShowPercentage\n",
       "Neighbourhood                                                   \n",
       "ILHAS OCEÂNICAS DE TRINDADE                  2        100.000000\n",
       "SANTOS DUMONT                             1276         28.918495\n",
       "SANTA CECÍLIA                              448         27.455357\n",
       "SANTA CLARA                                506         26.482213\n",
       "ITARARÉ                                   3514         26.266363\n",
       "JESUS DE NAZARETH                         2853         24.395373\n",
       "HORTO                                      175         24.000000\n",
       "ILHA DO PRÍNCIPE                          2266         23.477493\n",
       "CARATOÍRA                                 2565         23.040936\n",
       "ANDORINHAS                                2258         22.940655\n",
       "PRAIA DO SUÁ                              1288         22.826087\n",
       "GURIGICA                                  2018         22.596630\n",
       "BENTO FERREIRA                             858         22.494172\n",
       "PARQUE MOSCOSO                             802         22.319202\n",
       "MARUÍPE                                   1902         22.292324\n",
       "DO MOSCOSO                                 413         22.276029\n",
       "ENSEADA DO SUÁ                             235         22.127660\n",
       "ARIOVALDO FAVALESSA                        282         21.985816\n",
       "ILHA DAS CAIEIRAS                         1071         21.942110\n",
       "FONTE GRANDE                               682         21.847507"
      ]
     },
     "execution_count": 1361,
     "metadata": {},
     "output_type": "execute_result"
    }
   ],
   "source": [
    "total_counts = df1['Neighbourhood'].value_counts()\n",
    "\n",
    "\n",
    "no_show_percent = pd.crosstab(df1['Neighbourhood'], df1['No-show'], normalize='index')[1] * 100        # No-show' == 1\n",
    "\n",
    "neighbourhood_summary = pd.DataFrame({\n",
    "    'TotalAppointments': total_counts,\n",
    "    'NoShowPercentage': no_show_percent\n",
    "})\n",
    "\n",
    "# Sort by no-show %\n",
    "neighbourhood_summary = neighbourhood_summary.sort_values('NoShowPercentage', ascending=False)\n",
    "\n",
    "neighbourhood_summary.head(20) \n"
   ]
  },
  {
   "cell_type": "code",
   "execution_count": null,
   "id": "4dbc93cf-e159-4327-b61f-40f358b1062e",
   "metadata": {},
   "outputs": [],
   "source": [
    "neighbourhood_counts = df1['Neighbourhood'].value_counts()\n",
    "\n",
    "valid_neighbourhoods = neighbourhood_counts[neighbourhood_counts >= 10].index\n",
    "\n",
    "df1 = df1[df1['Neighbourhood'].isin(valid_neighbourhoods)]\n"
   ]
  },
  {
   "cell_type": "code",
   "execution_count": null,
   "id": "6fd3202f-e6bf-43cd-9474-da9b19c597de",
   "metadata": {},
   "outputs": [],
   "source": [
    "df1.info()   #18 rows removed"
   ]
  },
  {
   "cell_type": "code",
   "execution_count": null,
   "id": "655d454a-d383-4277-856e-1d3dda31f904",
   "metadata": {},
   "outputs": [],
   "source": [
    "print(neighbourhood_counts.min())\n"
   ]
  },
  {
   "cell_type": "code",
   "execution_count": null,
   "id": "b9a3c7d0-a818-4c95-bf0a-dd6f098392f1",
   "metadata": {},
   "outputs": [],
   "source": [
    "print(neighbourhood_counts.head(100))\n"
   ]
  },
  {
   "cell_type": "code",
   "execution_count": null,
   "id": "6c7723de-8b41-4b88-bebd-032bc258747f",
   "metadata": {},
   "outputs": [],
   "source": [
    "df1"
   ]
  },
  {
   "cell_type": "code",
   "execution_count": null,
   "id": "b49c7b06-c8bc-415e-8e47-31e755790d1e",
   "metadata": {},
   "outputs": [],
   "source": [
    " df1['PatientId'].nunique()                  #we cannot drop unique rows"
   ]
  },
  {
   "cell_type": "code",
   "execution_count": null,
   "id": "bf1ce55b-714e-4c1f-8f65-64bb6d33d785",
   "metadata": {},
   "outputs": [],
   "source": [
    "df1.drop(columns=['PatientId'], inplace=True)\n",
    "#drop since no conclusive relation between no show"
   ]
  },
  {
   "cell_type": "code",
   "execution_count": null,
   "id": "8ce8fc0e-f1fc-481d-a21e-0f5b90786ed8",
   "metadata": {},
   "outputs": [],
   "source": [
    "df1"
   ]
  },
  {
   "cell_type": "code",
   "execution_count": null,
   "id": "c1d0833c-f2b1-47f6-b9fa-330a45bca2e6",
   "metadata": {},
   "outputs": [],
   "source": [
    "# Count frequency (proportion) of each neighborhood\n",
    "freq_encoding = df1['Neighbourhood'].value_counts(normalize=True)\n",
    "\n",
    "# Map neighborhoods to their frequency value\n",
    "df1['Neighbourhood_freq_enc'] = df1['Neighbourhood'].map(freq_encoding)*100\n"
   ]
  },
  {
   "cell_type": "code",
   "execution_count": null,
   "id": "3b9d1269-244a-40fd-99f7-642d0354d3a5",
   "metadata": {},
   "outputs": [],
   "source": [
    "df1"
   ]
  },
  {
   "cell_type": "code",
   "execution_count": null,
   "id": "70962961-0c0c-4f14-940c-149460b1c5d2",
   "metadata": {},
   "outputs": [],
   "source": [
    "df1['Neighbourhood_freq_enc'].value_counts()"
   ]
  },
  {
   "cell_type": "code",
   "execution_count": null,
   "id": "0ba2d75f-b2c7-4617-ab6d-80fc61cf4bab",
   "metadata": {},
   "outputs": [],
   "source": [
    "df1 = df1.drop(columns=['Neighbourhood'])"
   ]
  },
  {
   "cell_type": "code",
   "execution_count": null,
   "id": "16b78cf3-67dc-4706-a080-f315671b6891",
   "metadata": {},
   "outputs": [],
   "source": [
    "df1.corr()"
   ]
  },
  {
   "cell_type": "code",
   "execution_count": null,
   "id": "0234112f-618a-413e-9c88-c3a48010dd2b",
   "metadata": {},
   "outputs": [],
   "source": [
    "corrmat = df1.corr(numeric_only=True)\n",
    "\n",
    "plt.figure(figsize=(6, 4))\n",
    "sns.heatmap(corrmat, \n",
    "            cbar=True, \n",
    "            annot=True, \n",
    "            square=True, \n",
    "            fmt='.2f', \n",
    "            annot_kws={'size': 8}, \n",
    "            cmap=\"Spectral_r\")\n",
    "plt.title(\"Correlation Matrix\")\n",
    "plt.show()"
   ]
  },
  {
   "cell_type": "code",
   "execution_count": null,
   "id": "e2e09b14-ca55-415f-87d1-0d533d3aa326",
   "metadata": {},
   "outputs": [],
   "source": [
    "df1\n"
   ]
  },
  {
   "cell_type": "code",
   "execution_count": null,
   "id": "dd535f41-107d-41ae-9f8d-61c842633646",
   "metadata": {},
   "outputs": [],
   "source": [
    "df1.to_csv('data.csv', index=False)"
   ]
  }
 ],
 "metadata": {
  "kernelspec": {
   "display_name": "Python 3 (ipykernel)",
   "language": "python",
   "name": "python3"
  },
  "language_info": {
   "codemirror_mode": {
    "name": "ipython",
    "version": 3
   },
   "file_extension": ".py",
   "mimetype": "text/x-python",
   "name": "python",
   "nbconvert_exporter": "python",
   "pygments_lexer": "ipython3",
   "version": "3.12.7"
  }
 },
 "nbformat": 4,
 "nbformat_minor": 5
}
