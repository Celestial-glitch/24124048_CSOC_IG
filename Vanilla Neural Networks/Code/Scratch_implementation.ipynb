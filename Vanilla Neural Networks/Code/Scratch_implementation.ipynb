{
 "cells": [
  {
   "cell_type": "code",
   "execution_count": 41,
   "id": "8145c1b1-4348-4c8e-b700-ca3f54d01bf5",
   "metadata": {},
   "outputs": [],
   "source": [
    "import pandas as pd\n",
    "import numpy as np\n",
    "import time"
   ]
  },
  {
   "cell_type": "markdown",
   "id": "4cbe0981-8daf-41a2-b349-69e983c136e3",
   "metadata": {},
   "source": [
    "### 1. Understand the data\n",
    "- Noshow=1 means patient did not come for the appointment"
   ]
  },
  {
   "cell_type": "code",
   "execution_count": 43,
   "id": "c7fde4cb-7314-4ee8-a183-6a7be2e0ca1d",
   "metadata": {},
   "outputs": [],
   "source": [
    "train_df = pd.read_csv(\"X_train_processed.csv\")\n",
    "test_df = pd.read_csv(\"X_test_processed.csv\")\n"
   ]
  },
  {
   "cell_type": "code",
   "execution_count": 44,
   "id": "5fa39a96-e662-493f-b73b-96ade91d0d32",
   "metadata": {},
   "outputs": [],
   "source": [
    "X_train_processed = train_df.drop(columns=[\"No-show\"]).to_numpy()\n",
    "y_train = train_df[\"No-show\"].to_numpy().reshape(-1, 1)\n",
    "\n",
    "X_test_processed = test_df.drop(columns=[\"No-show\"]).to_numpy()\n",
    "y_test = test_df[\"No-show\"].to_numpy().reshape(-1, 1)\n"
   ]
  },
  {
   "cell_type": "code",
   "execution_count": 45,
   "id": "bf43413f-54f4-4a4d-bccb-ae2726d5a486",
   "metadata": {},
   "outputs": [
    {
     "name": "stdout",
     "output_type": "stream",
     "text": [
      "X_train_processed: (88407, 11)\n",
      "y_train: (88407, 1)\n",
      "X_test_processed: (22102, 11)\n",
      "y_test: (22102, 1)\n"
     ]
    }
   ],
   "source": [
    "print(\"X_train_processed:\", X_train_processed.shape)\n",
    "print(\"y_train:\", y_train.shape)\n",
    "print(\"X_test_processed:\", X_test_processed.shape)\n",
    "print(\"y_test:\", y_test.shape)\n"
   ]
  },
  {
   "cell_type": "markdown",
   "id": "096ca745-6d2f-4236-86b6-8dae1511bccc",
   "metadata": {},
   "source": [
    "### 2. Architecture"
   ]
  },
  {
   "cell_type": "code",
   "execution_count": 47,
   "id": "5867dede-21de-43de-9395-f1f4ce6f55ae",
   "metadata": {},
   "outputs": [],
   "source": [
    "n_features = X_train_processed.shape[1]           #input size\n",
    "layer_dim = [n_features, 32, 16, 1]               # 2 hidden layers with 32 and 16 neurons, 1 output\n",
    "# layer_dim = [n_features, 16, 1]\n"
   ]
  },
  {
   "cell_type": "markdown",
   "id": "b284be51-0f41-467c-bebe-262ab84e3509",
   "metadata": {},
   "source": [
    "### 3. Neural network class"
   ]
  },
  {
   "cell_type": "markdown",
   "id": "c94dcc7b-2f40-4468-8b5a-b9cdb066cd79",
   "metadata": {},
   "source": [
    "tried different loss function, with weights and chose where f1 score is high"
   ]
  },
  {
   "cell_type": "code",
   "execution_count": 49,
   "id": "712e6bee-8e0b-41d6-ba55-7589f6066929",
   "metadata": {},
   "outputs": [],
   "source": [
    "class NeuralNetwork:\n",
    "    def __init__(self, layer_dim, seed=42):\n",
    "        np.random.seed(seed)\n",
    "        self.layer_dim = layer_dim\n",
    "        self.parameters = {}\n",
    "        self.L = len(layer_dim) - 1\n",
    "        for i in range(1, len(layer_dim)):\n",
    "            self.parameters[f\"W{i}\"] = np.random.randn(layer_dim[i], layer_dim[i-1]) * np.sqrt(2. / layer_dim[i-1])\n",
    "            self.parameters[f\"b{i}\"] = np.zeros((layer_dim[i], 1))\n",
    "\n",
    "    def relu(self, z):\n",
    "        return np.maximum(0, z)\n",
    "\n",
    "    def sigmoid(self, z):\n",
    "        return 1 / (1 + np.exp(-z))\n",
    "\n",
    "    def forward(self, X):\n",
    "        A = X.T\n",
    "        cache = {\"A0\": A}\n",
    "        for i in range(1, self.L + 1):\n",
    "            W = self.parameters[f\"W{i}\"]\n",
    "            b = self.parameters[f\"b{i}\"]\n",
    "            Z = W @ A + b\n",
    "            A = self.relu(Z) if i < self.L else self.sigmoid(Z)\n",
    "            cache[f\"Z{i}\"] = Z\n",
    "            cache[f\"A{i}\"] = A\n",
    "        return A.T, cache\n",
    "\n",
    "    def compute_loss(self, Y_hat, Y):\n",
    "        m = Y.shape[0]\n",
    "        epsilon = 1e-8\n",
    "        # loss = -np.mean(Y * np.log(Y_hat + epsilon) + (1 - Y) * np.log(1 - Y_hat + epsilon))\n",
    "        # In your compute_loss method\n",
    "\n",
    "        \n",
    "        alpha = 1  # Adjust this experimentally\n",
    "        #loss = -np.mean(alpha * y * np.log(y_hat + ε) + (1 - y) * np.log(1 - y_hat + ε))\n",
    "        loss = -np.mean(alpha * Y * np.log(Y_hat + epsilon) + (1 - Y) * np.log(1 - Y_hat + epsilon))\n",
    "        return loss\n",
    "    # def compute_loss(self, Y_hat, Y, alpha=3):  # alpha > 1 penalizes false negatives more\n",
    "    #     m = Y.shape[0]\n",
    "    #     epsilon = 1e-8\n",
    "    #     loss = -np.mean(alpha * Y * np.log(Y_hat + epsilon) + (1 - Y) * np.log(1 - Y_hat + epsilon))\n",
    "    #     return loss\n",
    "\n",
    "\n",
    "    def relu_backward(self, dA, Z):\n",
    "        dZ = np.array(dA, copy=True)\n",
    "        dZ[Z <= 0] = 0\n",
    "        return dZ\n",
    "\n",
    "    def sigmoid_backward(self, dA, Z):\n",
    "        s = self.sigmoid(Z)\n",
    "        return dA * s * (1 - s)\n",
    "\n",
    "    def backward(self, X, Y, cache):\n",
    "        grads = {}\n",
    "        m = X.shape[0]\n",
    "        L = self.L\n",
    "        A_prev = cache[f\"A{L-1}\"]\n",
    "        ZL = cache[f\"Z{L}\"]\n",
    "        AL = self.sigmoid(ZL)\n",
    "        dZL = AL - Y.T\n",
    "        grads[f\"dW{L}\"] = (1/m) * np.dot(dZL, A_prev.T)\n",
    "        grads[f\"db{L}\"] = (1/m) * np.sum(dZL, axis=1, keepdims=True)\n",
    "        dA_prev = np.dot(self.parameters[f\"W{L}\"].T, dZL)\n",
    "        for i in reversed(range(1, L)):\n",
    "            Z = cache[f\"Z{i}\"]\n",
    "            A_prev = cache[f\"A{i-1}\"]\n",
    "            dZ = self.relu_backward(dA_prev, Z)\n",
    "            grads[f\"dW{i}\"] = (1/m) * np.dot(dZ, A_prev.T)\n",
    "            grads[f\"db{i}\"] = (1/m) * np.sum(dZ, axis=1, keepdims=True)\n",
    "            dA_prev = np.dot(self.parameters[f\"W{i}\"].T, dZ)\n",
    "        return grads\n",
    "\n",
    "    def update_params(self, grads, learning_rate):\n",
    "        for l in range(1, self.L + 1):\n",
    "            self.parameters[f\"W{l}\"] -= learning_rate * grads[f\"dW{l}\"]\n",
    "            self.parameters[f\"b{l}\"] -= learning_rate * grads[f\"db{l}\"]\n",
    "\n",
    "    def train(self, X, Y, epochs=100, learning_rate=0.01, verbose=True):\n",
    "        for i in range(epochs):\n",
    "            Y_hat, cache = self.forward(X)\n",
    "            loss = self.compute_loss(Y_hat, Y)\n",
    "            grads = self.backward(X, Y, cache)\n",
    "            self.update_params(grads, learning_rate)\n",
    "            if verbose and i % 10 == 0:\n",
    "                print(f\"Epoch {i}, Loss: {loss:.4f}\")\n",
    "\n",
    "    def predict(self, X, threshold=0.5):\n",
    "        Y_hat, _ = self.forward(X)\n",
    "        return (Y_hat > threshold).astype(int)\n"
   ]
  },
  {
   "cell_type": "markdown",
   "id": "d77c0435-42d9-42b0-9786-e77e3cf4d286",
   "metadata": {},
   "source": [
    "### Training loop"
   ]
  },
  {
   "cell_type": "code",
   "execution_count": 51,
   "id": "2df4cd34-284a-4a10-911b-1afa672b80cb",
   "metadata": {},
   "outputs": [
    {
     "name": "stdout",
     "output_type": "stream",
     "text": [
      "Epoch 0, Loss: 0.6820\n",
      "Epoch 10, Loss: 0.6048\n",
      "Epoch 20, Loss: 0.5682\n",
      "Epoch 30, Loss: 0.5500\n",
      "Epoch 40, Loss: 0.5402\n",
      "Epoch 50, Loss: 0.5344\n",
      "Epoch 60, Loss: 0.5305\n",
      "Epoch 70, Loss: 0.5278\n",
      "Epoch 80, Loss: 0.5255\n",
      "Epoch 90, Loss: 0.5237\n",
      "Epoch 100, Loss: 0.5220\n",
      "Epoch 110, Loss: 0.5205\n",
      "Epoch 120, Loss: 0.5191\n",
      "Epoch 130, Loss: 0.5178\n",
      "Epoch 140, Loss: 0.5166\n",
      "Epoch 150, Loss: 0.5154\n",
      "Epoch 160, Loss: 0.5144\n",
      "Epoch 170, Loss: 0.5133\n",
      "Epoch 180, Loss: 0.5123\n",
      "Epoch 190, Loss: 0.5114\n",
      "Epoch 200, Loss: 0.5105\n",
      "Epoch 210, Loss: 0.5097\n",
      "Epoch 220, Loss: 0.5089\n",
      "Epoch 230, Loss: 0.5081\n",
      "Epoch 240, Loss: 0.5074\n",
      "Epoch 250, Loss: 0.5067\n",
      "Epoch 260, Loss: 0.5060\n",
      "Epoch 270, Loss: 0.5053\n",
      "Epoch 280, Loss: 0.5047\n",
      "Epoch 290, Loss: 0.5041\n",
      "Epoch 300, Loss: 0.5035\n",
      "Epoch 310, Loss: 0.5030\n",
      "Epoch 320, Loss: 0.5025\n",
      "Epoch 330, Loss: 0.5019\n",
      "Epoch 340, Loss: 0.5014\n",
      "Epoch 350, Loss: 0.5010\n",
      "Epoch 360, Loss: 0.5005\n",
      "Epoch 370, Loss: 0.5001\n",
      "Epoch 380, Loss: 0.4996\n",
      "Epoch 390, Loss: 0.4992\n",
      "Epoch 400, Loss: 0.4988\n",
      "Epoch 410, Loss: 0.4984\n",
      "Epoch 420, Loss: 0.4980\n",
      "Epoch 430, Loss: 0.4976\n",
      "Epoch 440, Loss: 0.4973\n",
      "Epoch 450, Loss: 0.4969\n",
      "Epoch 460, Loss: 0.4966\n",
      "Epoch 470, Loss: 0.4962\n",
      "Epoch 480, Loss: 0.4959\n",
      "Epoch 490, Loss: 0.4956\n",
      "Epoch 500, Loss: 0.4953\n",
      "Epoch 510, Loss: 0.4950\n",
      "Epoch 520, Loss: 0.4947\n",
      "Epoch 530, Loss: 0.4944\n",
      "Epoch 540, Loss: 0.4941\n",
      "Epoch 550, Loss: 0.4938\n",
      "Epoch 560, Loss: 0.4936\n",
      "Epoch 570, Loss: 0.4933\n",
      "Epoch 580, Loss: 0.4931\n",
      "Epoch 590, Loss: 0.4928\n",
      "Epoch 600, Loss: 0.4926\n",
      "Epoch 610, Loss: 0.4923\n",
      "Epoch 620, Loss: 0.4921\n",
      "Epoch 630, Loss: 0.4919\n",
      "Epoch 640, Loss: 0.4916\n",
      "Epoch 650, Loss: 0.4914\n",
      "Epoch 660, Loss: 0.4912\n",
      "Epoch 670, Loss: 0.4910\n",
      "Epoch 680, Loss: 0.4908\n",
      "Epoch 690, Loss: 0.4906\n",
      "Epoch 700, Loss: 0.4904\n",
      "Epoch 710, Loss: 0.4902\n",
      "Epoch 720, Loss: 0.4900\n",
      "Epoch 730, Loss: 0.4898\n",
      "Epoch 740, Loss: 0.4896\n",
      "Epoch 750, Loss: 0.4895\n",
      "Epoch 760, Loss: 0.4893\n",
      "Epoch 770, Loss: 0.4891\n",
      "Epoch 780, Loss: 0.4889\n",
      "Epoch 790, Loss: 0.4888\n",
      "Epoch 800, Loss: 0.4886\n",
      "Epoch 810, Loss: 0.4884\n",
      "Epoch 820, Loss: 0.4883\n",
      "Epoch 830, Loss: 0.4881\n",
      "Epoch 840, Loss: 0.4880\n",
      "Epoch 850, Loss: 0.4878\n",
      "Epoch 860, Loss: 0.4877\n",
      "Epoch 870, Loss: 0.4875\n",
      "Epoch 880, Loss: 0.4874\n",
      "Epoch 890, Loss: 0.4872\n",
      "Epoch 900, Loss: 0.4871\n",
      "Epoch 910, Loss: 0.4869\n",
      "Epoch 920, Loss: 0.4868\n",
      "Epoch 930, Loss: 0.4867\n",
      "Epoch 940, Loss: 0.4865\n",
      "Epoch 950, Loss: 0.4864\n",
      "Epoch 960, Loss: 0.4863\n",
      "Epoch 970, Loss: 0.4861\n",
      "Epoch 980, Loss: 0.4860\n",
      "Epoch 990, Loss: 0.4859\n",
      "Training Time: 126.50 seconds\n"
     ]
    }
   ],
   "source": [
    "nn = NeuralNetwork(layer_dim)\n",
    "start = time.time()\n",
    "nn.train(X_train_processed, y_train, epochs=1000, learning_rate=0.01)\n",
    "end = time.time()\n",
    "print(f\"Training Time: {end - start:.2f} seconds\")\n",
    "import matplotlib.pyplot as plt\n",
    "\n"
   ]
  },
  {
   "cell_type": "markdown",
   "id": "c6eac19f-cc9e-484d-bbc3-cb49461d1ca5",
   "metadata": {},
   "source": [
    "### Test -prediction"
   ]
  },
  {
   "cell_type": "code",
   "execution_count": 53,
   "id": "0a74aaaa-a9a0-41ee-9834-f1505002a60f",
   "metadata": {},
   "outputs": [
    {
     "name": "stdout",
     "output_type": "stream",
     "text": [
      "Test Accuracy: 57.80%\n"
     ]
    }
   ],
   "source": [
    "predictions = nn.predict(X_test_processed, threshold=0.2)\n",
    "accuracy = np.mean(predictions == y_test)\n",
    "print(f\"Test Accuracy: {accuracy * 100:.2f}%\")\n"
   ]
  },
  {
   "cell_type": "code",
   "execution_count": 54,
   "id": "35a887ad-6987-405c-8674-b6123b0de746",
   "metadata": {},
   "outputs": [],
   "source": [
    "from sklearn.metrics import accuracy_score, average_precision_score, confusion_matrix, classification_report, f1_score"
   ]
  },
  {
   "cell_type": "markdown",
   "id": "a72dab80-4b35-41ef-9d80-4104d55c8a44",
   "metadata": {},
   "source": [
    "### Evaluation metrics "
   ]
  },
  {
   "cell_type": "code",
   "execution_count": 56,
   "id": "e74559a5-8384-4947-ba8a-71d7ba868b4c",
   "metadata": {},
   "outputs": [
    {
     "name": "stdout",
     "output_type": "stream",
     "text": [
      "Training time: 126.49761962890625\n",
      "Test Accuracy: 0.5780019907700661\n",
      "F1-Score: 0.37331183229187664\n",
      "PR-AUC:  0.24116488642502398\n",
      "Confusion Matrix:\n",
      " [[9997 7685]\n",
      " [1642 2778]]\n",
      "\n",
      "Classification Report:\n",
      "               precision    recall  f1-score   support\n",
      "\n",
      "           0       0.86      0.57      0.68     17682\n",
      "           1       0.27      0.63      0.37      4420\n",
      "\n",
      "    accuracy                           0.58     22102\n",
      "   macro avg       0.56      0.60      0.53     22102\n",
      "weighted avg       0.74      0.58      0.62     22102\n",
      "\n"
     ]
    }
   ],
   "source": [
    "print(\"Training time:\",end-start)\n",
    "print(\"Test Accuracy:\", accuracy_score(y_test, predictions))\n",
    "print(\"F1-Score:\",f1_score(y_test, predictions))\n",
    "print(\"PR-AUC: \",average_precision_score(y_test,predictions))\n",
    "print(\"Confusion Matrix:\\n\", confusion_matrix(y_test, predictions))\n",
    "print(\"\\nClassification Report:\\n\", classification_report(y_test, predictions))"
   ]
  },
  {
   "cell_type": "markdown",
   "id": "c2f3da83-648d-4f09-9b5d-a59b794557e5",
   "metadata": {},
   "source": [
    "### F1 vs threshold"
   ]
  },
  {
   "cell_type": "code",
   "execution_count": 58,
   "id": "79204487-4b9c-454c-a92e-eb60845a24be",
   "metadata": {},
   "outputs": [
    {
     "data": {
      "image/png": "[encoded data removed]",
      "text/plain": [
       "<Figure size 640x480 with 1 Axes>"
      ]
     },
     "metadata": {},
     "output_type": "display_data"
    }
   ],
   "source": [
    "import matplotlib.pyplot as plt\n",
    "\n",
    "thresholds = np.arange(0.1, 0.9, 0.05)\n",
    "f1_scores = []\n",
    "y_probs, _ = nn.forward(X_test_processed)\n",
    "for t in thresholds:\n",
    "    predictions = (y_probs > t).astype(int)\n",
    "    f1 = f1_score(y_test, predictions)\n",
    "    f1_scores.append(f1)\n",
    "\n",
    "plt.plot(thresholds, f1_scores)\n",
    "plt.xlabel(\"Threshold\")\n",
    "plt.ylabel(\"F1-Score\")\n",
    "plt.title(\"F1-Score vs. Threshold\")\n",
    "plt.grid()\n",
    "plt.show()\n",
    "\n",
    "\n"
   ]
  },
  {
   "cell_type": "code",
   "execution_count": 59,
   "id": "51b22292-ffec-4e31-a6c4-fcf6ba01dc3a",
   "metadata": {},
   "outputs": [
    {
     "name": "stdout",
     "output_type": "stream",
     "text": [
      "Predicted Probabilities Range:\n",
      "Min: 0.04455993240731837\n",
      "Max: 0.4689715065340308\n",
      "Mean: 0.2101961503458364\n"
     ]
    }
   ],
   "source": [
    "print(\"Predicted Probabilities Range:\")\n",
    "print(\"Min:\", np.min(y_probs))\n",
    "print(\"Max:\", np.max(y_probs))\n",
    "print(\"Mean:\", np.mean(y_probs))\n"
   ]
  },
  {
   "cell_type": "code",
   "execution_count": null,
   "id": "6473b01f-0f15-4c50-b811-df0f5827d1b4",
   "metadata": {},
   "outputs": [],
   "source": []
  }
 ],
 "metadata": {
  "kernelspec": {
   "display_name": "Python 3 (ipykernel)",
   "language": "python",
   "name": "python3"
  },
  "language_info": {
   "codemirror_mode": {
    "name": "ipython",
    "version": 3
   },
   "file_extension": ".py",
   "mimetype": "text/x-python",
   "name": "python",
   "nbconvert_exporter": "python",
   "pygments_lexer": "ipython3",
   "version": "3.12.7"
  }
 },
 "nbformat": 4,
 "nbformat_minor": 5
}
